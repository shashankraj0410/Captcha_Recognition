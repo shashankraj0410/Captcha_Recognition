{
 "cells": [
  {
   "cell_type": "code",
   "execution_count": 1,
   "metadata": {
    "id": "yuhcAk32XRzN"
   },
   "outputs": [],
   "source": [
    "import os\n",
    "import glob\n",
    "import numpy as np\n",
    "import pandas as pd\n",
    "import matplotlib.pyplot as plt\n",
    "\n",
    "import torch\n",
    "import torch.nn as nn\n",
    "import torch.nn.functional as F\n",
    "import torch.optim as optim\n",
    "from torch.utils.data import Dataset, DataLoader\n",
    "from torchvision import transforms\n",
    "from torchvision.models import resnet18\n",
    "\n",
    "import string\n",
    "from tqdm.notebook import tqdm\n",
    "import cv2\n",
    "from PIL import Image\n",
    "from sklearn.model_selection import train_test_split\n",
    "from sklearn.metrics import accuracy_score\n",
    "import multiprocessing as mp\n"
   ]
  },
  {
   "cell_type": "code",
   "execution_count": 2,
   "metadata": {
    "colab": {
     "base_uri": "https://localhost:8080/"
    },
    "id": "42T83pDpX9EF",
    "outputId": "396eb9e5-c897-49fe-a8d8-1f2c5d8c0ae0"
   },
   "outputs": [
    {
     "name": "stdout",
     "output_type": "stream",
     "text": [
      "2\n"
     ]
    }
   ],
   "source": [
    "cpu_count = mp.cpu_count()\n",
    "print(cpu_count)"
   ]
  },
  {
   "cell_type": "code",
   "execution_count": 7,
   "metadata": {
    "id": "nTt0dxYrYEw3"
   },
   "outputs": [],
   "source": [
    "data_path = \"/content/drive/MyDrive/archive (1)/samples\""
   ]
  },
  {
   "cell_type": "code",
   "execution_count": 9,
   "metadata": {
    "colab": {
     "base_uri": "https://localhost:8080/"
    },
    "id": "zKAjhNx_YGPy",
    "outputId": "0f4139fb-8c0d-4fb8-93d6-3e218df202cb"
   },
   "outputs": [
    {
     "name": "stdout",
     "output_type": "stream",
     "text": [
      "1080\n",
      "[5 9]\n"
     ]
    }
   ],
   "source": [
    "image_fns = os.listdir(data_path)\n",
    "print(len(image_fns))\n",
    "print(np.unique([len(image_fn.split(\".\")[0]) for image_fn in image_fns]))"
   ]
  },
  {
   "cell_type": "code",
   "execution_count": 10,
   "metadata": {
    "colab": {
     "base_uri": "https://localhost:8080/"
    },
    "id": "1qNfJ93Ni92-",
    "outputId": "953d98b6-8d3d-4a24-cf29-fc60c526049b"
   },
   "outputs": [
    {
     "name": "stdout",
     "output_type": "stream",
     "text": [
      "2 3mxdn (1).png\n",
      "3 3fbxd (1).png\n",
      "5 3n7mx (1).png\n",
      "7 3n3cf (1).png\n",
      "10 3eny7 (1).png\n",
      "17 3n2b4 (1).png\n",
      "20 3ndxd (1).png\n",
      "1076 3g2w6 (1).png\n",
      "1077 3ebnn (1).png\n",
      "1078 3ebpw (1).png\n"
     ]
    }
   ],
   "source": [
    "for idx, image_fn in enumerate(image_fns):\n",
    "    if len(image_fn.split(\".\")[0]) != 5:\n",
    "           print(idx, image_fn)"
   ]
  },
  {
   "cell_type": "code",
   "execution_count": 12,
   "metadata": {
    "colab": {
     "base_uri": "https://localhost:8080/"
    },
    "id": "Ebk4WygYjENR",
    "outputId": "d9824bf2-7cbe-426c-c9f0-216c96f44a4a"
   },
   "outputs": [
    {
     "name": "stdout",
     "output_type": "stream",
     "text": [
      "810 270\n"
     ]
    }
   ],
   "source": [
    "image_fns_train, image_fns_test = train_test_split(image_fns, random_state=0)\n",
    "print(len(image_fns_train), len(image_fns_test))"
   ]
  },
  {
   "cell_type": "code",
   "execution_count": 13,
   "metadata": {
    "colab": {
     "base_uri": "https://localhost:8080/"
    },
    "id": "fmKIpeanjPjl",
    "outputId": "0cb7daea-bdd4-4139-a350-9719ae67ed94"
   },
   "outputs": [
    {
     "name": "stdout",
     "output_type": "stream",
     "text": [
      "23\n",
      "[' ', '(', ')', '1', '2', '3', '4', '5', '6', '7', '8', 'b', 'c', 'd', 'e', 'f', 'g', 'm', 'n', 'p', 'w', 'x', 'y']\n"
     ]
    }
   ],
   "source": [
    "image_ns = [image_fn.split(\".\")[0] for image_fn in image_fns]\n",
    "image_ns = \"\".join(image_ns)\n",
    "letters = sorted(list(set(list(image_ns))))\n",
    "print(len(letters))\n",
    "print(letters)"
   ]
  },
  {
   "cell_type": "code",
   "execution_count": 14,
   "metadata": {
    "colab": {
     "base_uri": "https://localhost:8080/"
    },
    "id": "9-hiy6gbjTJv",
    "outputId": "2bb9980b-902f-4098-91d3-00701141a8f0"
   },
   "outputs": [
    {
     "name": "stdout",
     "output_type": "stream",
     "text": [
      "24\n",
      "['-', ' ', '(', ')', '1', '2', '3', '4', '5', '6', '7', '8', 'b', 'c', 'd', 'e', 'f', 'g', 'm', 'n', 'p', 'w', 'x', 'y']\n",
      "{0: '-', 1: ' ', 2: '(', 3: ')', 4: '1', 5: '2', 6: '3', 7: '4', 8: '5', 9: '6', 10: '7', 11: '8', 12: 'b', 13: 'c', 14: 'd', 15: 'e', 16: 'f', 17: 'g', 18: 'm', 19: 'n', 20: 'p', 21: 'w', 22: 'x', 23: 'y'}\n",
      "{'-': 0, ' ': 1, '(': 2, ')': 3, '1': 4, '2': 5, '3': 6, '4': 7, '5': 8, '6': 9, '7': 10, '8': 11, 'b': 12, 'c': 13, 'd': 14, 'e': 15, 'f': 16, 'g': 17, 'm': 18, 'n': 19, 'p': 20, 'w': 21, 'x': 22, 'y': 23}\n"
     ]
    }
   ],
   "source": [
    "\n",
    "vocabulary = [\"-\"] + letters\n",
    "print(len(vocabulary))\n",
    "print(vocabulary)\n",
    "idx2char = {k:v for k,v in enumerate(vocabulary, start=0)}\n",
    "print(idx2char)\n",
    "char2idx = {v:k for k,v in idx2char.items()}\n",
    "print(char2idx)"
   ]
  },
  {
   "cell_type": "code",
   "execution_count": 15,
   "metadata": {
    "id": "2KDWhD3NjXBz"
   },
   "outputs": [],
   "source": [
    "\n",
    "batch_size = 16"
   ]
  },
  {
   "cell_type": "code",
   "execution_count": 16,
   "metadata": {
    "id": "BUpplQTLjaVq"
   },
   "outputs": [],
   "source": [
    "class CAPTCHADataset(Dataset):\n",
    "\n",
    "    def __init__(self, data_dir, image_fns):\n",
    "        self.data_dir = data_dir\n",
    "        self.image_fns = image_fns\n",
    "\n",
    "    def __len__(self):\n",
    "        return len(self.image_fns)\n",
    "\n",
    "    def __getitem__(self, index):\n",
    "        image_fn = self.image_fns[index]\n",
    "        image_fp = os.path.join(self.data_dir, image_fn)\n",
    "        image = Image.open(image_fp).convert('RGB')\n",
    "        image = self.transform(image)\n",
    "        text = image_fn.split(\".\")[0]\n",
    "        return image, text\n",
    "\n",
    "    def transform(self, image):\n",
    "\n",
    "        transform_ops = transforms.Compose([\n",
    "            transforms.ToTensor(),\n",
    "            transforms.Normalize(mean=(0.485, 0.456, 0.406), std=(0.229, 0.224, 0.225))\n",
    "        ])\n",
    "        return transform_ops(image)"
   ]
  },
  {
   "cell_type": "code",
   "execution_count": 17,
   "metadata": {
    "colab": {
     "base_uri": "https://localhost:8080/"
    },
    "id": "UXx781wNjgk4",
    "outputId": "c7d9db4d-b850-4d5a-aa18-df52f136b75e"
   },
   "outputs": [
    {
     "name": "stdout",
     "output_type": "stream",
     "text": [
      "51 17\n"
     ]
    }
   ],
   "source": [
    "trainset = CAPTCHADataset(data_path, image_fns_train)\n",
    "testset = CAPTCHADataset(data_path, image_fns_test)\n",
    "train_loader = DataLoader(trainset, batch_size=batch_size, num_workers=cpu_count, shuffle=True)\n",
    "test_loader = DataLoader(testset, batch_size=batch_size, num_workers=cpu_count, shuffle=False)\n",
    "print(len(train_loader), len(test_loader))"
   ]
  },
  {
   "cell_type": "code",
   "execution_count": 21,
   "metadata": {
    "colab": {
     "base_uri": "https://localhost:8080/"
    },
    "id": "ku5TnDSejlLb",
    "outputId": "557eedd8-87c9-4c28-ba76-19cbaad9a5ce"
   },
   "outputs": [
    {
     "name": "stdout",
     "output_type": "stream",
     "text": [
      "torch.Size([16, 3, 50, 200]) ('78dw6', '3n2b4 (1)', 'pcpg6', '56m6y', '4fp5g', 'byfgn', 'g78gn', 'mdxpn', 'bpwd7', '8n34n', 'f2fge', 'b4ndb', 'nwg2m', 'gp7c5', 'pg2yx', '3n7mx')\n"
     ]
    }
   ],
   "source": [
    "image_batch, text_batch = next(iter(train_loader))\n",
    "print(image_batch.size(), text_batch)"
   ]
  },
  {
   "cell_type": "code",
   "execution_count": 22,
   "metadata": {
    "colab": {
     "base_uri": "https://localhost:8080/"
    },
    "id": "AoyVM5LZkFFw",
    "outputId": "abd4677e-0e2c-402e-f428-8e606c09357c"
   },
   "outputs": [
    {
     "name": "stdout",
     "output_type": "stream",
     "text": [
      "24\n"
     ]
    }
   ],
   "source": [
    "num_chars = len(char2idx)\n",
    "print(num_chars)\n",
    "rnn_hidden_size = 256"
   ]
  },
  {
   "cell_type": "code",
   "execution_count": 23,
   "metadata": {
    "colab": {
     "base_uri": "https://localhost:8080/"
    },
    "id": "38p_40qqkH7V",
    "outputId": "76fa2d21-bae3-4373-f1c5-b061e52bbbba"
   },
   "outputs": [
    {
     "name": "stdout",
     "output_type": "stream",
     "text": [
      "cpu\n"
     ]
    }
   ],
   "source": [
    "\n",
    "device = torch.device('cuda' if torch.cuda.is_available() else 'cpu')\n",
    "print(device)"
   ]
  },
  {
   "cell_type": "code",
   "execution_count": 24,
   "metadata": {
    "colab": {
     "base_uri": "https://localhost:8080/"
    },
    "id": "HmUl48zkkOWv",
    "outputId": "2a079652-dc26-4d36-9f75-14b3e1cc6bec"
   },
   "outputs": [
    {
     "name": "stderr",
     "output_type": "stream",
     "text": [
      "/usr/local/lib/python3.11/dist-packages/torchvision/models/_utils.py:208: UserWarning: The parameter 'pretrained' is deprecated since 0.13 and may be removed in the future, please use 'weights' instead.\n",
      "  warnings.warn(\n",
      "/usr/local/lib/python3.11/dist-packages/torchvision/models/_utils.py:223: UserWarning: Arguments other than a weight enum or `None` for 'weights' are deprecated since 0.13 and may be removed in the future. The current behavior is equivalent to passing `weights=ResNet18_Weights.IMAGENET1K_V1`. You can also use `weights=ResNet18_Weights.DEFAULT` to get the most up-to-date weights.\n",
      "  warnings.warn(msg)\n",
      "Downloading: \"https://download.pytorch.org/models/resnet18-f37072fd.pth\" to /root/.cache/torch/hub/checkpoints/resnet18-f37072fd.pth\n",
      "100%|██████████| 44.7M/44.7M [00:00<00:00, 96.1MB/s]\n"
     ]
    }
   ],
   "source": [
    "resnet = resnet18(pretrained=True)"
   ]
  },
  {
   "cell_type": "code",
   "execution_count": 25,
   "metadata": {
    "colab": {
     "base_uri": "https://localhost:8080/"
    },
    "id": "vJ1MBGdykRJK",
    "outputId": "9fe839f8-4622-4571-9b1a-de56cab089c5"
   },
   "outputs": [
    {
     "name": "stdout",
     "output_type": "stream",
     "text": [
      "ResNet(\n",
      "  (conv1): Conv2d(3, 64, kernel_size=(7, 7), stride=(2, 2), padding=(3, 3), bias=False)\n",
      "  (bn1): BatchNorm2d(64, eps=1e-05, momentum=0.1, affine=True, track_running_stats=True)\n",
      "  (relu): ReLU(inplace=True)\n",
      "  (maxpool): MaxPool2d(kernel_size=3, stride=2, padding=1, dilation=1, ceil_mode=False)\n",
      "  (layer1): Sequential(\n",
      "    (0): BasicBlock(\n",
      "      (conv1): Conv2d(64, 64, kernel_size=(3, 3), stride=(1, 1), padding=(1, 1), bias=False)\n",
      "      (bn1): BatchNorm2d(64, eps=1e-05, momentum=0.1, affine=True, track_running_stats=True)\n",
      "      (relu): ReLU(inplace=True)\n",
      "      (conv2): Conv2d(64, 64, kernel_size=(3, 3), stride=(1, 1), padding=(1, 1), bias=False)\n",
      "      (bn2): BatchNorm2d(64, eps=1e-05, momentum=0.1, affine=True, track_running_stats=True)\n",
      "    )\n",
      "    (1): BasicBlock(\n",
      "      (conv1): Conv2d(64, 64, kernel_size=(3, 3), stride=(1, 1), padding=(1, 1), bias=False)\n",
      "      (bn1): BatchNorm2d(64, eps=1e-05, momentum=0.1, affine=True, track_running_stats=True)\n",
      "      (relu): ReLU(inplace=True)\n",
      "      (conv2): Conv2d(64, 64, kernel_size=(3, 3), stride=(1, 1), padding=(1, 1), bias=False)\n",
      "      (bn2): BatchNorm2d(64, eps=1e-05, momentum=0.1, affine=True, track_running_stats=True)\n",
      "    )\n",
      "  )\n",
      "  (layer2): Sequential(\n",
      "    (0): BasicBlock(\n",
      "      (conv1): Conv2d(64, 128, kernel_size=(3, 3), stride=(2, 2), padding=(1, 1), bias=False)\n",
      "      (bn1): BatchNorm2d(128, eps=1e-05, momentum=0.1, affine=True, track_running_stats=True)\n",
      "      (relu): ReLU(inplace=True)\n",
      "      (conv2): Conv2d(128, 128, kernel_size=(3, 3), stride=(1, 1), padding=(1, 1), bias=False)\n",
      "      (bn2): BatchNorm2d(128, eps=1e-05, momentum=0.1, affine=True, track_running_stats=True)\n",
      "      (downsample): Sequential(\n",
      "        (0): Conv2d(64, 128, kernel_size=(1, 1), stride=(2, 2), bias=False)\n",
      "        (1): BatchNorm2d(128, eps=1e-05, momentum=0.1, affine=True, track_running_stats=True)\n",
      "      )\n",
      "    )\n",
      "    (1): BasicBlock(\n",
      "      (conv1): Conv2d(128, 128, kernel_size=(3, 3), stride=(1, 1), padding=(1, 1), bias=False)\n",
      "      (bn1): BatchNorm2d(128, eps=1e-05, momentum=0.1, affine=True, track_running_stats=True)\n",
      "      (relu): ReLU(inplace=True)\n",
      "      (conv2): Conv2d(128, 128, kernel_size=(3, 3), stride=(1, 1), padding=(1, 1), bias=False)\n",
      "      (bn2): BatchNorm2d(128, eps=1e-05, momentum=0.1, affine=True, track_running_stats=True)\n",
      "    )\n",
      "  )\n",
      "  (layer3): Sequential(\n",
      "    (0): BasicBlock(\n",
      "      (conv1): Conv2d(128, 256, kernel_size=(3, 3), stride=(2, 2), padding=(1, 1), bias=False)\n",
      "      (bn1): BatchNorm2d(256, eps=1e-05, momentum=0.1, affine=True, track_running_stats=True)\n",
      "      (relu): ReLU(inplace=True)\n",
      "      (conv2): Conv2d(256, 256, kernel_size=(3, 3), stride=(1, 1), padding=(1, 1), bias=False)\n",
      "      (bn2): BatchNorm2d(256, eps=1e-05, momentum=0.1, affine=True, track_running_stats=True)\n",
      "      (downsample): Sequential(\n",
      "        (0): Conv2d(128, 256, kernel_size=(1, 1), stride=(2, 2), bias=False)\n",
      "        (1): BatchNorm2d(256, eps=1e-05, momentum=0.1, affine=True, track_running_stats=True)\n",
      "      )\n",
      "    )\n",
      "    (1): BasicBlock(\n",
      "      (conv1): Conv2d(256, 256, kernel_size=(3, 3), stride=(1, 1), padding=(1, 1), bias=False)\n",
      "      (bn1): BatchNorm2d(256, eps=1e-05, momentum=0.1, affine=True, track_running_stats=True)\n",
      "      (relu): ReLU(inplace=True)\n",
      "      (conv2): Conv2d(256, 256, kernel_size=(3, 3), stride=(1, 1), padding=(1, 1), bias=False)\n",
      "      (bn2): BatchNorm2d(256, eps=1e-05, momentum=0.1, affine=True, track_running_stats=True)\n",
      "    )\n",
      "  )\n",
      "  (layer4): Sequential(\n",
      "    (0): BasicBlock(\n",
      "      (conv1): Conv2d(256, 512, kernel_size=(3, 3), stride=(2, 2), padding=(1, 1), bias=False)\n",
      "      (bn1): BatchNorm2d(512, eps=1e-05, momentum=0.1, affine=True, track_running_stats=True)\n",
      "      (relu): ReLU(inplace=True)\n",
      "      (conv2): Conv2d(512, 512, kernel_size=(3, 3), stride=(1, 1), padding=(1, 1), bias=False)\n",
      "      (bn2): BatchNorm2d(512, eps=1e-05, momentum=0.1, affine=True, track_running_stats=True)\n",
      "      (downsample): Sequential(\n",
      "        (0): Conv2d(256, 512, kernel_size=(1, 1), stride=(2, 2), bias=False)\n",
      "        (1): BatchNorm2d(512, eps=1e-05, momentum=0.1, affine=True, track_running_stats=True)\n",
      "      )\n",
      "    )\n",
      "    (1): BasicBlock(\n",
      "      (conv1): Conv2d(512, 512, kernel_size=(3, 3), stride=(1, 1), padding=(1, 1), bias=False)\n",
      "      (bn1): BatchNorm2d(512, eps=1e-05, momentum=0.1, affine=True, track_running_stats=True)\n",
      "      (relu): ReLU(inplace=True)\n",
      "      (conv2): Conv2d(512, 512, kernel_size=(3, 3), stride=(1, 1), padding=(1, 1), bias=False)\n",
      "      (bn2): BatchNorm2d(512, eps=1e-05, momentum=0.1, affine=True, track_running_stats=True)\n",
      "    )\n",
      "  )\n",
      "  (avgpool): AdaptiveAvgPool2d(output_size=(1, 1))\n",
      "  (fc): Linear(in_features=512, out_features=1000, bias=True)\n",
      ")\n"
     ]
    }
   ],
   "source": [
    "print(resnet)"
   ]
  },
  {
   "cell_type": "code",
   "execution_count": 26,
   "metadata": {
    "id": "xsRl2YHckVLs"
   },
   "outputs": [],
   "source": [
    "class CRNN(nn.Module):\n",
    "\n",
    "    def __init__(self, num_chars, rnn_hidden_size=256, dropout=0.1):\n",
    "\n",
    "        super(CRNN, self).__init__()\n",
    "        self.num_chars = num_chars\n",
    "        self.rnn_hidden_size = rnn_hidden_size\n",
    "        self.dropout = dropout\n",
    "\n",
    "        # CNN Part 1\n",
    "        resnet_modules = list(resnet.children())[:-3]\n",
    "        self.cnn_p1 = nn.Sequential(*resnet_modules)\n",
    "\n",
    "        # CNN Part 2\n",
    "        self.cnn_p2 = nn.Sequential(\n",
    "            nn.Conv2d(256, 256, kernel_size=(3,6), stride=1, padding=1),\n",
    "            nn.BatchNorm2d(256),\n",
    "            nn.ReLU(inplace=True)\n",
    "        )\n",
    "        self.linear1 = nn.Linear(1024, 256)\n",
    "\n",
    "        # RNN\n",
    "        self.rnn1 = nn.GRU(input_size=rnn_hidden_size,\n",
    "                            hidden_size=rnn_hidden_size,\n",
    "                            bidirectional=True,\n",
    "                            batch_first=True)\n",
    "        self.rnn2 = nn.GRU(input_size=rnn_hidden_size,\n",
    "                            hidden_size=rnn_hidden_size,\n",
    "                            bidirectional=True,\n",
    "                            batch_first=True)\n",
    "        self.linear2 = nn.Linear(self.rnn_hidden_size*2, num_chars)\n",
    "\n",
    "\n",
    "    def forward(self, batch):\n",
    "\n",
    "        batch = self.cnn_p1(batch)\n",
    "        # print(batch.size()) # torch.Size([-1, 256, 4, 13])\n",
    "\n",
    "        batch = self.cnn_p2(batch) # [batch_size, channels, height, width]\n",
    "        # print(batch.size())# torch.Size([-1, 256, 4, 10])\n",
    "\n",
    "        batch = batch.permute(0, 3, 1, 2) # [batch_size, width, channels, height]\n",
    "        # print(batch.size()) # torch.Size([-1, 10, 256, 4])\n",
    "\n",
    "        batch_size = batch.size(0)\n",
    "        T = batch.size(1)\n",
    "        batch = batch.view(batch_size, T, -1) # [batch_size, T==width, num_features==channels*height]\n",
    "        # print(batch.size()) # torch.Size([-1, 10, 1024])\n",
    "\n",
    "        batch = self.linear1(batch)\n",
    "        # print(batch.size()) # torch.Size([-1, 10, 256])\n",
    "\n",
    "        batch, hidden = self.rnn1(batch)\n",
    "        feature_size = batch.size(2)\n",
    "        batch = batch[:, :, :feature_size//2] + batch[:, :, feature_size//2:]\n",
    "        # print(batch.size()) # torch.Size([-1, 10, 256])\n",
    "\n",
    "        batch, hidden = self.rnn2(batch)\n",
    "        # print(batch.size()) # torch.Size([-1, 10, 512])\n",
    "\n",
    "        batch = self.linear2(batch)\n",
    "        # print(batch.size()) # torch.Size([-1, 10, 20])\n",
    "\n",
    "        batch = batch.permute(1, 0, 2) # [T==10, batch_size, num_classes==num_features]\n",
    "        # print(batch.size()) # torch.Size([10, -1, 20])\n",
    "\n",
    "        return batch"
   ]
  },
  {
   "cell_type": "code",
   "execution_count": 27,
   "metadata": {
    "id": "-yj9fnj3kgEq"
   },
   "outputs": [],
   "source": [
    "def weights_init(m):\n",
    "    classname = m.__class__.__name__\n",
    "    if type(m) in [nn.Linear, nn.Conv2d, nn.Conv1d]:\n",
    "        torch.nn.init.xavier_uniform_(m.weight)\n",
    "        if m.bias is not None:\n",
    "            m.bias.data.fill_(0.01)\n",
    "    elif classname.find('BatchNorm') != -1:\n",
    "        m.weight.data.normal_(1.0, 0.02)\n",
    "        m.bias.data.fill_(0)"
   ]
  },
  {
   "cell_type": "code",
   "execution_count": 28,
   "metadata": {
    "id": "Ny3opVegkikT"
   },
   "outputs": [],
   "source": [
    "crnn = CRNN(num_chars, rnn_hidden_size=rnn_hidden_size)\n",
    "crnn.apply(weights_init)\n",
    "crnn = crnn.to(device)"
   ]
  },
  {
   "cell_type": "code",
   "execution_count": 29,
   "metadata": {
    "colab": {
     "base_uri": "https://localhost:8080/"
    },
    "id": "SPmXAF8ikk6C",
    "outputId": "b2244c7d-f143-4bae-b40f-7cab57eb4583"
   },
   "outputs": [
    {
     "name": "stdout",
     "output_type": "stream",
     "text": [
      "('78dw6', '3n2b4 (1)', 'pcpg6', '56m6y', '4fp5g', 'byfgn', 'g78gn', 'mdxpn', 'bpwd7', '8n34n', 'f2fge', 'b4ndb', 'nwg2m', 'gp7c5', 'pg2yx', '3n7mx')\n",
      "torch.Size([10, 16, 24])\n"
     ]
    }
   ],
   "source": [
    "text_batch_logits = crnn(image_batch.to(device))\n",
    "print(text_batch)\n",
    "print(text_batch_logits.shape)"
   ]
  },
  {
   "cell_type": "code",
   "execution_count": 30,
   "metadata": {
    "id": "c3flrAN0knbw"
   },
   "outputs": [],
   "source": [
    "\n",
    "criterion = nn.CTCLoss(blank=0)"
   ]
  },
  {
   "cell_type": "code",
   "execution_count": 31,
   "metadata": {
    "id": "xOM8blqHksyu"
   },
   "outputs": [],
   "source": [
    "def encode_text_batch(text_batch):\n",
    "\n",
    "    text_batch_targets_lens = [len(text) for text in text_batch]\n",
    "    text_batch_targets_lens = torch.IntTensor(text_batch_targets_lens)\n",
    "\n",
    "    text_batch_concat = \"\".join(text_batch)\n",
    "    text_batch_targets = [char2idx[c] for c in text_batch_concat]\n",
    "    text_batch_targets = torch.IntTensor(text_batch_targets)\n",
    "\n",
    "    return text_batch_targets, text_batch_targets_lens"
   ]
  },
  {
   "cell_type": "code",
   "execution_count": 32,
   "metadata": {
    "id": "pWuUty_AkwJ1"
   },
   "outputs": [],
   "source": [
    "def compute_loss(text_batch, text_batch_logits):\n",
    "    \"\"\"\n",
    "    text_batch: list of strings of length equal to batch size\n",
    "    text_batch_logits: Tensor of size([T, batch_size, num_classes])\n",
    "    \"\"\"\n",
    "    text_batch_logps = F.log_softmax(text_batch_logits, 2) # [T, batch_size, num_classes]\n",
    "    text_batch_logps_lens = torch.full(size=(text_batch_logps.size(1),),\n",
    "                                       fill_value=text_batch_logps.size(0),\n",
    "                                       dtype=torch.int32).to(device) # [batch_size]\n",
    "    #print(text_batch_logps.shape)\n",
    "    #print(text_batch_logps_lens)\n",
    "    text_batch_targets, text_batch_targets_lens = encode_text_batch(text_batch)\n",
    "    #print(text_batch_targets)\n",
    "    #print(text_batch_targets_lens)\n",
    "    loss = criterion(text_batch_logps, text_batch_targets, text_batch_logps_lens, text_batch_targets_lens)\n",
    "\n",
    "    return loss"
   ]
  },
  {
   "cell_type": "code",
   "execution_count": 33,
   "metadata": {
    "colab": {
     "base_uri": "https://localhost:8080/"
    },
    "id": "76IYQHEQky4S",
    "outputId": "7d3e0378-f0d0-4046-942c-151cd6444458"
   },
   "outputs": [
    {
     "data": {
      "text/plain": [
       "tensor(4.6650, grad_fn=<MeanBackward0>)"
      ]
     },
     "execution_count": 33,
     "metadata": {},
     "output_type": "execute_result"
    }
   ],
   "source": [
    "compute_loss(text_batch, text_batch_logits)\n"
   ]
  },
  {
   "cell_type": "code",
   "execution_count": 35,
   "metadata": {
    "id": "jgZtNPCFk0Q2"
   },
   "outputs": [],
   "source": [
    "num_epochs = 50\n",
    "lr = 0.001\n",
    "weight_decay = 1e-3\n",
    "clip_norm = 5"
   ]
  },
  {
   "cell_type": "code",
   "execution_count": 37,
   "metadata": {
    "id": "nd1HTBdjk8XE"
   },
   "outputs": [],
   "source": [
    "\n",
    "optimizer = optim.Adam(crnn.parameters(), lr=lr, weight_decay=weight_decay)\n",
    "lr_scheduler = optim.lr_scheduler.ReduceLROnPlateau(optimizer, verbose=True, patience=5)"
   ]
  },
  {
   "cell_type": "code",
   "execution_count": 38,
   "metadata": {
    "id": "F6vHCfQek-n-"
   },
   "outputs": [],
   "source": [
    "crnn = CRNN(num_chars, rnn_hidden_size=rnn_hidden_size)\n",
    "crnn.apply(weights_init)\n",
    "crnn = crnn.to(device)"
   ]
  },
  {
   "cell_type": "code",
   "execution_count": 39,
   "metadata": {
    "colab": {
     "base_uri": "https://localhost:8080/",
     "height": 917,
     "referenced_widgets": [
      "02a05b8b593e49fbb00638f213b105c8",
      "01d688837629449cbb631d88c8d15ccd",
      "0cda454fdbbf42d0b7e57192ee5ffddd",
      "acb0dd9069454295bab10d15072f69af",
      "3d3306f410284132aa1a6bed2a688d13",
      "dc222415884a40dcaaa98b57aa2c8cd8",
      "74b50a5c98d44eba9d5fe1388ff86e41",
      "786d74f7557543ca9dd8e6c7466e15ff",
      "54ad1211e2c74f92b60cdce04bf2854f",
      "7f579e7395b54743b754689b3246c78a",
      "320661ff88694de6b4d9647021986f25",
      "a9e75f84397e4bc397a68dd778c2752a",
      "e1a40f5f242643d087d611de3285a6d4",
      "c5dcefb048df4a069773740ead051a04",
      "cff364a2deab49cf8a722538e270d664",
      "7e532d8508924377baa563b91322ecc3",
      "d4b7f21bbbba49d6994712a191c49579",
      "e0be8a2e1b8c451ebed7c7398d75df3a",
      "5b4a05cdca6a4207b7166806314b8a66",
      "23446a455b15468eb6cd97984f995b25",
      "d2d6b613802e4df0a836770e48342aa3",
      "a8c41193222a41ea9ceb276d4b9a31cc",
      "5a4fa52da39d4b749d877860fc0a0296",
      "6dcbeda03a5f44679834e2988e792f0e",
      "f15c3d4bb08640dfb4b2473b80792d8f",
      "427ae944796e4a71bb8566b10790da8e",
      "7239b795e3764bbf9d01f29427cf668e",
      "8e6d61fb5b10484c9ff6cfa44b1c67c4",
      "d30ed18827a744b48ada363dd9f37ea4",
      "6762858791ad4348b740f4123bd1280f",
      "3c4fa3d25f9a421f9622fd6535e7a72e",
      "50a918852d5b4035addbe4c5377ad226",
      "26ce5f2ad5f244e9b344e6430e027e92",
      "21719169f4054494b98124d8f9df1508",
      "5fe5851986684d6f858a2da9309494de",
      "0358316c836f447fbbf53c6beaa2ea42",
      "253a25312ff241918a726c151387fb61",
      "5ea32a1200c04e8494af86f41d64e89e",
      "91d928f401b14268a3dd154cdbbe048e",
      "567f427edf3f43d5943be80acfbfb2c2",
      "d7c4b9f5888e471ab6d2d1cf47597c69",
      "c19b333a7b79461d9085d9459c26fac7",
      "de984c9b03f9411baa4e6a8765a6c114",
      "9243d0579ebd47b39867edb490399d6e",
      "2c5dc8f684e247d2be0bbe9491bbfa4c",
      "71a516615989490babf2db586df3ee16",
      "044f1c29e27e41cfac97c381edbb7c56",
      "d54486f0a974448fbc6295f75de13bad",
      "aabc694ec24645cebeda772123a6de1e",
      "32f8fe4b9f7048b4a5e27a3304725e38",
      "7295abc469ef43df84a7ff590dfde3b4",
      "e5911ba3ea574699bf6b8e6d73b3c69a",
      "621442858f4e4b50833cf886bb45a8d4",
      "f20c170b9e1e4185adbf7636478b4155",
      "e05063c2c7c04f7fb8949b22a7539259",
      "234682d83d7c47298d4defb5777f44d3",
      "599c57b85b5c413f8f93e763e34a1c35",
      "a5295a8806a54608855665d93dfd3ec2",
      "339ecce84be14266bc6768ab47acb861",
      "abae12b7e57441dfaccb56247011a388",
      "003863d76bd64aaf8d67ffa05a92c536",
      "9d49996593c749ba9f606be76159e86f",
      "6c48657d39b7407e97438b2b14424d14",
      "5c23d2b9667a48209f8e3f66008d1c5b",
      "5eb0f7160a8846789262f0d470018fde",
      "0a7b873c5c0f49bc94647e10cf05a0bc",
      "d33563bd127f4fa9b6093bfc30e1496d",
      "c9b0ddfdce4a46d88c258a69fdc88126",
      "3651e0cd2c784fe886af6fdc746447a5",
      "551126c1187b4c1ca1556b0018874ea4",
      "30a8afdc614f423fa3d796174d846468",
      "4040f6dce6974353b912f92ae786c65b",
      "271582db44294d0c90f61ffbe0592e10",
      "31a41e81850040c09d7f59780cf28332",
      "0713e921705a47b6a7a3dd16dc3473ae",
      "148eea44304e433b8ec1ff29d2fec38c",
      "7c4d76509f704fdb8ba29dc1a229478b",
      "af8f5c270a604cbabc884f45726db005",
      "73c3247fe6e040f3a74a5ddd1a6103cc",
      "8101c6cfacb3411781a9f606852339d5",
      "5509a7bf8bfb4149b49f51f52af187c4",
      "b935f8d778eb4eabbf6c1e68e80f0f92",
      "dbe8712260f842a0b1f837fa3ca6499f",
      "c2a44443eda847898563d4b3418d1dfc",
      "26c7fd396160401cbe0b822607b42d92",
      "27aa5001435742079c44666ea817878a",
      "3f40965b4daf47bba83cb1fae7604702",
      "f562fdb4d2794b2697b2e1c68ec523d3",
      "764f6e4607484dad987a577de36d7fcd",
      "2455cf29199744e3a9992dd6d2e2b5c6",
      "4910c9596706417bb930bdb91c56406d",
      "98c8e47eca3f4f2b86d3ebf0bbd032e0",
      "57ca9974d60d43bfbf005112baea0c44",
      "c92b8a6daffb44db902acb27d173f579",
      "539f408597d64f299d2b7b29fa232826",
      "918919002c0343ef90ef30e3d907759c",
      "7aa077b4abd14fc09cf06cd7d92818f5",
      "8b891f14dab549a4a33d2bd31a1e3cf0",
      "b5bc43c8ad4c4cbfb128f70e413dbb53",
      "b9c88a4a5c0945d79cd044261e902053",
      "8872f859bd5c4f5398b90e65de11a88c",
      "97bffa6d2ffc4d32be239e1082810b20",
      "9973585e78f74c9f80c27fbf01502214",
      "1e78618b5d9748b6904e4e11b3a246ee",
      "743360058f8f4259985d4763e1a538d8",
      "5a32bd7f848d430fb024f477baf10e70",
      "5f182453df72486a88f1996436bec2a5",
      "b0899eb225a14c2fb9474021fc5fbb8e",
      "93b72d8b5c724da4bd5846692af2506c",
      "30985a50ebe3400fbb22dc8316b82fa3",
      "acf41f4374254a2f9dbf539432c8125c",
      "78a04a518b18453cbe3a70d5d3c1aa8a",
      "5149106999824b20af413722e74815fa",
      "34e593a443214c2d9e2d78354aacbc4d",
      "9b1035c9eb9347fa9eb93f646cdbf87e",
      "bc0ee7361b084b38b7c44556183ac513",
      "8686354c4c754b2cb6214d53a7c145d4",
      "bc13beeb35ab459995b445df631b0629",
      "532ed4a1ecda4f3c8fa8b4acb17b9fc9",
      "9b8928fcd498449db1d6c6d189264ebc",
      "4af407951c634d96bf0ab14d12aa35c4",
      "553420f2d46648a3ada837f56b2e7597",
      "b88d17ce11de4d2c8e229a4e3caaccd2",
      "9ce28e780e4d487f80a5ffbd8e1bae36",
      "1ebd7f1fc7b84278a196f8bceff8b810",
      "32e443b9813c46f18ebdd7d446590695",
      "9a79d13e0f9c46b78d15f1d61290e814",
      "0d7a97c047de48cfa85f6a38f14fc0e0",
      "ba623974305d4e52868dabff7de65b0a",
      "a4a41292e3f8470997bd25b419510d05",
      "1a2d8e7c06fb499e9ca86f8ee4b23474",
      "47bf15a6280b4b96937ef4e3f2da6625",
      "41d6012eb69740eb9e392ceba805b69f",
      "27a62091a9ec489887d57f42f3fc6857",
      "afb2746b97814f23a8ab4c21e442a983",
      "013874dbaf7e4466ad5cd09eca5cbbbb",
      "e5ccdd680d2541ed89d394b1ef077fb6",
      "644328af0a2944edb27e835153df4628",
      "ca53321ac3c548418e4cbc7d463be436",
      "cc908e69c3ae40e4997e9c2f4d8106e8",
      "cb1da034f313411f854147fdc3afe4ec",
      "57379a22b0c5432facba8313cdeadae1",
      "bd3e207535b84152949b6aa6a788f269",
      "2f284233e2774a8aac530355d1c1bad6",
      "8d450b8218b34e3c84161b675de6244c",
      "e82067ea5b82479ea861cb9e3998ffbb",
      "4f2b7a6d2cce4c4bab77bbb00a2e0bbc",
      "c2b4b01167614fc7b2f8ce4d7611bd20",
      "1ba8c4dd23e64418b767d3ff4dd3c5b4",
      "7c264f89cc534590889f052311170e87",
      "4d4e55ea0f12409faf3559364d84603e",
      "babd2bb3b5214412a2a1029156685d9c",
      "4f12156c74b143898b253dc43247fbdd",
      "0aeb0eb4ee8444af9ef76368656a3574",
      "0eff7131c61247e9a0aaea23198c4fbe",
      "3fdff5d892f04dea8c15148a77cf8646",
      "01d677896346468bae3d6a022cb20994",
      "c5c57e209086480d84d05b6630c56c34",
      "1778973b23804e048e214c614593bd5b",
      "be32436ccab54114ae63d279bae048ac",
      "30a24273c9d643bdb8db8f1771b0ca0c",
      "f89f00eb1f3947d5832bb60d881dfd17",
      "ef14bf80eb1a48f7a254765acf71a539",
      "36119537d0e04ed98e7a1fd775e34eac",
      "d11a2f776b9641718eff6c77f7d62e21",
      "ea8fdfdf659b4757a868199e3ebfc6f9",
      "41702636f8ae474e8fedeaea3e726434",
      "30d4404cf5dd41809537474a379bfa5f",
      "45c4afb89a8e4a19a0d9fcc4476e4d58",
      "fa6ea4728852409387a2d8da822a5a4c",
      "5c5c6186cbe74ba29b412f700a0b4607",
      "5eb4b3a229294d10ae41e504866c4b10",
      "29bfce67609842e39391d29c9cfdacbc",
      "3a4c1820788a4140ade1afd392b03a44",
      "7559da72eb9d4790b35e33114ddf8df3",
      "77601e210fd94aceb9ee84b5affd838a",
      "14b0f9710b5640d9b030a87f05b393d1",
      "8b63d30a1ded400b9a71e07156a68656",
      "95fe7d2f17a74e99a40ed579f2421c98",
      "eafa4f5606b948d08776387a9c906d3d",
      "65861f8a61fc4cb59a9b16ed5c1e9a55",
      "87bb7d96779446958a11bae95f572aae",
      "9b9b0c88ef944f98b27533312460fd73",
      "42a6fab101724455909f2e6222abcb96",
      "31cf876b23274f809f60b8eaa40cdf5b",
      "982efde1edb243f18d6ed493fe54b4ce",
      "d03b1951801b447497d892fcada34669",
      "bfeac6942e384d0b8446c8936378d58e",
      "80702ee1de2043598742871e0ee4451b",
      "d38071b0e441436ab1cf413ace6b2369",
      "7cb212d5b8f945b49594b730f8ccb41d",
      "9fef08178c1f406683ad07f51b8a220d",
      "e5b2c8d03e594f46930d1a97b54760c8",
      "d243a8455ea148beaf9fee441d758a04",
      "217e94aa45a949cc824b63774c14f14f",
      "c5173eebf25d4981815fe82b1be70e23",
      "db0920e2ea4c4b28843f44132b3effd7",
      "f90f060e31c94d35a032cf8e23a23e5f",
      "a0584ad16ba0476e925f0760874e5c00",
      "5395f4f9544f46a6a9ea4a53f506ca3e",
      "d4f445a8b43e4eda994277e1a8271fe2",
      "9db45fe739774f89b8c383a1996e0f02",
      "27d4314f973046b0a5b5aac903030ad2",
      "8c62690bbda34dab9a1ac3da0b52b0de",
      "5d6d665655b843a2875b969785bad343",
      "fbf32fa1add04f40b7bae83db7f143ab",
      "bd3b9de9a88940fab68e72651e45d289",
      "123d5248e5c44a4ab9b9a72f6b91d146",
      "9fde3ff026eb4fb6b0e09f0757e9741a",
      "9923cebaa5804b01a7180eb061ae2ee7",
      "9d58dc80f1254834b7c1a830d87f01e0",
      "3fc49a59364844bdb524cde3582650eb",
      "653325dc33c84f6d8807385ed438babb",
      "4f69b2188f5847d6b0e0b205692e3d47",
      "df1ea4a5b2c84f9494ad451b467da378",
      "0467d603e4e94cb09def3dd52a1dbe98",
      "2be49a9c683747f2a2e5040d5f2c995b",
      "6281ce0817d1435782284905ae59b286",
      "1c64d5b2bbde42f785b33f02224c0e1b",
      "bcc6b3e54a9d450daa03c21e098d052a",
      "28015d75264f41e28a1c38add375074f",
      "3a7800db2ad247679d8334ae4a63ce7f",
      "11368e891a7f46f28c77b795e6fa2c52",
      "2f2ec73bdd82483a830f8d0cda849332",
      "a80d78f8e8bf4934b69c0c64fb0d9332",
      "4c27264b42f14c5fa88aa8e11ec519a2",
      "524530e607cf4c9da3a6f481082c0cc5",
      "f8c6ae526dd14726b4250f4bf1722af9",
      "027bfd663a0b4997a3597bed5e00ffe5",
      "970f88dee961457fb0a3c0fa0ffb3dd5",
      "8e49ffb465cf46d1b17a508d09ea9bc4",
      "e4cc6ae0eea14e5190fab2aba06171f0",
      "c5b18e04e9c9470481932d37895f6af5",
      "027d651147c54c8b895d033c5756d490",
      "4ab728b9ffb54c1aad7f5ea782b737db",
      "b901f7fca212406a9df7943ace03413c",
      "4a2cbdc487fb490b989027dd9d69b176",
      "80670b519c434629bb013f3e203867b7",
      "dc9a323c69dc4f14951e2ab09b10dd8d",
      "bd1a99764f5c4c78a0a04b1c9e3b74bb",
      "ff90e4265da6466bb9a66da1dea92fa1",
      "cb288b8f63204162a9051749f34bd838",
      "7dd56eec193a47ddbaf4bcb6fbb2660d",
      "72bb65d43e3147718905a593f44598ca",
      "4a20d9b232ef43b18b73a6aac22383e5",
      "e661b845d21a41a1b47172228e6c8dfc",
      "bcc0aadc81904554a194eff3cc8d1b5f",
      "9060b93a1fc7486dad0c39f1694db08e",
      "899a568574b84f84ae94bfff9ea8602e",
      "d0bb1287e39243ecb1b9ae86e24688e2",
      "ad4ff52ac93f49c682f2a32aa7ea9126",
      "0f46d01cc44f499a98b54a26220402c1",
      "9fc7f7ac07a44481bac78cf51a098f88",
      "884c453ea76948b9af15ee01cba880f4",
      "899ec47fedd64d0ca48d8b38e736d174",
      "e8e1d4c06316405d9c1981a8ae008f81",
      "637b61b0c04842548665f3c55fe42252",
      "0c6cbdf1e7ad4b1f80ae03807d7e39d6",
      "5b096d30c59b4004811c68d0b260e7f8",
      "03206844102c44cfa878e06fd1b05fff",
      "3645021d68934723a7d60dac995f1d74",
      "5ad2dbe28ff24c3f9975978fecc39e2a",
      "1df1e90cf9034bfa94771a1595ecdae5",
      "3b06aab364c54f98b117031cb49ab7d7",
      "b19fde4eb890497bacb3ae9f7fd98a41",
      "fa7931b45c324e4ca73cb15c00f3fa45",
      "54e0cd64d1044888adcab08587275c6f",
      "6d4227c9656249c8a9ba40c933487410",
      "968d791c1cfd4eab8dc8fe9994dd6c32",
      "0ecc42f9c24c4cc8b046f6d49178c583",
      "bfdcc3b8c2d24d69b98571800bf47095",
      "9f0c27e681604da4831e1dc305ca4062",
      "3b99ca75444145c6a32fe6439162248e",
      "7b15155c5a8847d59fba41ef67410978",
      "a14a3927498347efb7613b77f4e0eeab",
      "1923b1a068734bfd819f39a2f75fdeba",
      "761c3f5a08444895875a02accc4b14a3",
      "7a0e4086d70742d8b2cf03b953f040d8",
      "09357d92d8b34d658c1db82078424f2e",
      "15134dfb7aef4f4cb73d3f7054d415d4",
      "143f0094353c40fa827c3c8f43b2ad56",
      "e5713bc3a48c42e18cb2e4416de12002",
      "26861d3af4fe456ab1538ede78e0a0f1",
      "0069bcf4f3394d56979e5db5b09c26a5",
      "0f9fdd1dab8c424e8788846f10ae1346",
      "2442174abe2e4509a1f43af1ae34f863",
      "3261027651ea4a63921f4f1cf89012bc",
      "684c7d3de9ac4668a456647b8174fb9a",
      "955d148bb6a345789c6fbbbfa3313c88",
      "c9b8d970d2b545afa0d93cdeaf819222",
      "de638f50091f43e3b068574eedf51f21",
      "73de616508ae4be493fd51b35ca225b8",
      "8ec750f5e2f84a12b082895872b7be96",
      "7235e47b146242998a2019a60f01eb4f",
      "f5838b48df4e4610998a8995937842ea",
      "be5caf3d23584788860556c530c7b469",
      "6006d787e08147ddba3cc1ce590d1181",
      "641834ec2583406097149414f913c8cb",
      "97bd83d959d14f798aeb5767b3c7fd37",
      "43ffd74030ff4a46b18e133c57fe71f8",
      "aee996e712134db687c6f85fcbaca50e",
      "b2b5055ae8954d22935569c114e45fdb",
      "6233d6ebcaa34d02a4587785c5347bf3",
      "788b3d45ad6c4f92bb4ba5a0667cf633",
      "358921380fbe405e9d2ce94368757087",
      "80daf8fda08e48bcb195995040cd18b7",
      "4c264a4fb20b4db186791525b162112e",
      "c10a980f9d3541cb869b588509fb0fe0",
      "4e3f2579860f4995a4b16aaa7dbe7ccc",
      "002d8f6ce69e40d0a1145882572226b3",
      "2dc490d653b548829f8b56927f21284a",
      "7c73c545cd0349628be3ad504d66bd79",
      "0553637694b34b11a1593a22a2f0bb38",
      "eddae90f775a4dd6aff8a7fe2883532c",
      "3b4decd29a3f441ea98c3ea27be90345",
      "5c5be638b68344b2b7518b76b7179e64",
      "70798d3e31e6418b88c203d0b96c0cbe",
      "30f492b415d44f9aadce0ada100d3813",
      "ee733152f7e04b898bbfbfae056dfcc7",
      "0590c16d6b244cf286055a3f86d13d68",
      "dd853fd78c364ef6b8f95cec90b878d7",
      "47ace542d51d4519a382cc62d4ba7d36",
      "c44e05e7ab4647cdb4768da5e62f5660",
      "f6782111d76d48daa358ca29c3a205af",
      "afa7348df07044319452ac7d21b5a291",
      "9d152e285bee449a8b0f7329f90e1155",
      "b78ca435133444b39e8dd5a0f71b880f",
      "fc19fe8c73ba4f9ab336c7c6d8bf2a8d",
      "da18c46ec6094359a5b53310d328a30d",
      "dc9601c61f6349bdb87f85205b19b025",
      "e2507f1c2c99473cb85209c2af728664",
      "0000c97e7add4ea295a721f202481e74",
      "c87eefbee4bd4bcb9b534ee8b36667c6",
      "1f48e5031e6049ffb93c489ecbbbd79a",
      "be9702effec84f6aa1492a9fa8626650",
      "e27942f057a047d7a94aaef11e6984ef",
      "d544a201ae5747d4814d1af84747bd20",
      "fa50af939fac44a5b788d55363a88443",
      "f958aba1eb5b4c6585dbf9fc680838aa",
      "30705d912e9949928fa065ead46e67fc",
      "b6e0a885d1f0495193d09818555781bb",
      "76ada1e5a33346478fcc25b508515dd9",
      "813a9bcaa893488885558699a276e342",
      "e69bf362bf2c432a94c0694da9f1773e",
      "a58e0cf937ca4b29a97967a150776391",
      "6043573163fd42ccbf9f7fd5293e4cbc",
      "ab6ca33b679842098fa43545d1aceae5",
      "eb447120210445b0bae390850abaead8",
      "5627de7456d341bab4b8d28fe428162f",
      "709dd8cca407402ba3716e0caccaaf0a",
      "24f0a6599e9f4a23aca40a63a8394ba6",
      "146d2a3fbc68409d9810250cf48ddc16",
      "82632f3620df4b4686081917b6683655",
      "8fb16e35e0e04221882954fae0281e89",
      "4717abdf657141cebc9ebc0003e1197f",
      "5d979078409e49c59c7f1012b24c88c2",
      "a13f9d8e042d4f5e8783687e7d5bc931",
      "8002b2d1d68347b8b6d963837278da1c",
      "96f91f24c6454d85ac1c0e4eba60cfde",
      "927b9f415e3448c3b6a514ef0af7f18a",
      "0d961e74ed1649a2800661d367e2fd20",
      "605b2759cb504f8ea708353995b94969",
      "583d9c887bd341869307b74b91564d1e",
      "3456e6a8a3d9484a87ce2512edfebb6c",
      "45717253fc454a219715641c2cfc7181",
      "36d3fd7cced54d2a85108db5844112c9",
      "0c794939446f43808b468d9611055dca",
      "16ae80b633a042f795263a9e5117056e",
      "3159d0102b2d4f3e8ee3f7189b5e1a6e",
      "8b0cb561c29343f8b2dd7d705b9a6b79",
      "5ca6e5e09f6f4652ae6c3f1b429dbc9c",
      "8575ad1486a148dabf495ad2e3716164",
      "765e80908dc641cfa1c1eaefdf258c65",
      "21788bb074574845af2457909051bb9d",
      "3cb74bdefb9346b6b06cedf3e29c382c",
      "a77b7406c7eb48c998535abe456c25dc",
      "c6bc74958ac047f39e19ac135884a023",
      "2deb1418c3b54daa856d1e2cf17c3898",
      "32d668709b0d45fca8a9fbf8f2b18985",
      "d4b03244ab4043f58ac469af1389c975",
      "a6cc485af83b4d78810a1d943fddc543",
      "bcfccc93f13041449e532737a16467f8",
      "6f7c8956bdc04982891cd95182811e85",
      "1a0d7d99959245c2950325a25df17d9d",
      "f41aaf7a27aa43ca832846beff3fb87e",
      "b266f4ade8a544599e27f4f995423946",
      "abfc2b7950d84152b7290c3ee8ed5356",
      "1fcc62accfb44a7e9e262c17ec83b67a",
      "e99445495c15473fb7240b0e2aa20a2e",
      "84df4b39d01a4faba7a4a214a9d57741",
      "118eed626df5422ca8811d73c31929f1",
      "8a5cebb31cd340729f7f75f030620ebd",
      "1ff975a720da46ae94fd0feba478b791",
      "10e93aa72b07429e9215963cd41eb6dc",
      "18001f8e38e74659bdb22451e9055371",
      "3f93399c8d874513877ac0d85879cf69",
      "c359a10eef1f412b957ecbed3b544c93",
      "4a03859349e74b82aefba4be9e597b10",
      "1993f06b1cf04217bb4a7dc8b132d7e3",
      "77c23f2dfdca43b895c13d00159bddc1",
      "3d56c756be874d37ba203f96f0d664b1",
      "68b73d5fcb8449a495ec491501d97ad6",
      "8b462738fb2a4a15bfd2a6259107896d",
      "593e4d006a924610989bb2df093a215f",
      "5a8371c284a241b3915f6e5465f70939",
      "4d17f396ba1e4d63ab249284d0455819",
      "f91f9dcb4b2a4b24a0fe3a3c626fc47a",
      "aaf09c03a1df4c278a7efc5e442e7ff1",
      "ab9e4e840bc74c85ac8eeaa065271eb6",
      "6bd1cc90ce434530a645597db43b7355",
      "c8fc45382ba547b4b09769fcf65c5113",
      "f4c6923a51664546befe9d5b19647829",
      "86976f08f1284b2b8b9691683b23d0a3",
      "fffa08321d864bdf92725a7a9e476e77",
      "a031ef30557f4440b050fab36b65495c",
      "48b3865ce6c7465f8881ff671e08c810",
      "0325b3200f6242688c35aca15a8f645b",
      "9e2eee0915124c83bb0ecb457902fa17",
      "1dec937b09a24c258cdccf3355261598",
      "a5c62c967bfb41fab9c97d3bdcce78e6",
      "7c34fa305e8b400f8ea1fe38d07386c3",
      "3a48cd87bd9248ab9037b7c1c7f2ad5b",
      "fef476ca7eb6477ca2a77276df71fb90",
      "238cff81ae784fa4a3bda01c4855c9ff",
      "836cfaea3e704182a9b580b3f29dd6e8",
      "afe223ff60ae413c97aa5d0af46597a4",
      "d4779d51cf1442779f306dea44f7a30c",
      "318a41a6fec44fab8ef3ddb1754b45d9",
      "522846ddfa9445159fb68f4c837f4e92",
      "0624c86aa26342d1ba4730ccae798e0e",
      "e68a58479ece44bab949e533fb402c93",
      "bbaa9141e3dd4ed4b384e4c6b834a7fe",
      "4a1079cc524f4ee4bb23ced0aea93bec",
      "c15c63d2252b48e7ae33a8d151df617a",
      "6ccae986f4af4af09a006aac4d1a5683",
      "1eabc3f3ed334c169b2ccfe8166c7e31",
      "74c1f43a087541a8a74acd5126ab4537",
      "302c807b97e043549a38ac7935103a0d",
      "8f3176ac878344dcae563e992f62a330",
      "850af3ad9bf649b99b07510c0d51f8c8",
      "bec109ef054447288eb370d3defa60c0",
      "3d83a37f2a694b259f814a4d837e2b4b",
      "9e59f74530c04d8585463f15f49f7b29",
      "d3e1dba704b940099579c30e360b8103",
      "4dd4ebd454f144fea12777032f6bf463",
      "6e00e4aa62584e539ab7ab79d13c7486",
      "28dc6513a50847c69b6f7ad9c65af941",
      "f9656caebe7e4f6f884f27436a385c61",
      "5576bcfdbeae43c4bce1b1a31d501de8",
      "c822d518e6d647cab45ac8576d0becc8",
      "3b014ef9c5ae4e7cbab0f6a0174bbc9c",
      "2c4b0a303905477ba88bb3b485eb9a7a",
      "2e38ebc706714f70bc9025a8311e203c",
      "7df66d636157455989e38ab805fecc3c",
      "b610b704f47f44b9be29480f804e5c41",
      "5c57762049c6455f9417ac0f712bc7b5",
      "69e305aa578b4935b24f442a52625e47",
      "e6cfa5c9f30f4d6f8f093e8a5e567229",
      "cd0380f2e54b4978a2e005d0b325fdbb",
      "6aad6d40e4f540d09f85db43d192e727",
      "4455b7fb36284b76bca734f0a725f10b",
      "36d2ba24da8b41098ee14b0e7938183b",
      "160bba68cc1d4d1283b16abf115903af",
      "492eb347206c463fae787b7b3771aa28",
      "7e88b995eb97494b9758f932a7efeea8",
      "dcbe7c79c06c4bd4a77726d5cf73d00d",
      "6cf4da1a982f4dd498f2f0dbb5aae366",
      "df34b603bda04827816955501e70eda0",
      "d8667ce581f14212b32bd6fdb1e8d116",
      "d52b53f73859431c97f515c6616d9da6",
      "d8072b593be74071ba389cc3ae0df481",
      "544db77386b54abdbc4669e7595a7f27",
      "4df7d8c5ee1a4e5aac6f71270a8acaf7",
      "60f2966ea76c4326a08fac3c497ba2f4",
      "421bb8f9bcd641a3b85bdc9699f7ad00",
      "93b28fd68bee4ba08897409eb82a171b",
      "f506760fd1e84bf0a9fcf444e511645c",
      "b05b0b6add94421088ba499ef986ffe4",
      "33f20f54b1544fe1a6c5c699a2c3876e",
      "1d8fb4ed1a95494490a5b9dffbc2e1dd",
      "b91e4d3288c74fa788f57dad38698d08",
      "a9ad705e89cf418aabe4ab10ed20cc3d",
      "03e79a0bd62140ecad839808bfae0776",
      "e80d4bab63254547b9109fdde93c3288",
      "442496c524a34401bc5b33115427cfc2",
      "587dd4277c0940e4a4eb69b42be287b8",
      "22497ae9b80a4f488d456aa3531da250",
      "e84320dc05b040bea6ae463f568d253b",
      "92354b163a7d48e18c76e70a93233e32",
      "5bfe315e6cfd40adb21526cd46afc015",
      "640ab502ae15499d9e8bb944caa5c545",
      "896c269e8fcd43bb85f68fd88b055f26",
      "f1ddc9e30cb0493fadb94f8651c7bfe7",
      "609256fee1a44d879a7e40d8558102f5",
      "5440373c214349caac63e31167618517",
      "648f457fd14d4580a3ad8c51ae741a7f",
      "bce0dcafbd69426f908fff20be1f0a06",
      "7edea2095c1e460298d8771643a03e57",
      "7fc32b95796243af86d42bee9f31791d",
      "bc35f3d93a8947b9ae09c7a7a9f190de",
      "96267e2cd7824e3095af2091fe8162ef",
      "049bbb7886214e1fa7a7ef07efe2a6ca",
      "08618282b13d4a6187a6f0d544330208",
      "b4ae041007a144ea9f78d15ed5ac755d",
      "bde9f36e91b74b1284317889e0f00c09",
      "7d7036d97b2f409384853557386d53ac",
      "868955c587dc4324804a52cdbbcf4863",
      "cbb5ab000f594f4892b15da7e6d98f7c",
      "3212948b27d24d1aac3161117eb5a04e",
      "b1331e15bf4c441a88e0afbd7af38320",
      "a3a63de350354cd883d86fccd875a21e",
      "152ed279e379411b8134bf9cefa4cc16",
      "04dd24cf74b44e4b8ca103bced31e488",
      "1972175a7c5842168a7c798e07380271",
      "fed4c1a6c07d4cc8b3dccd2193dd810c",
      "f4c659b7ed1e4e0d875c2921140bb82e",
      "d1a8c99444cf49269f9d29aa6117d9f6",
      "c45c2e8b1c634162bb4917d902b311ec",
      "788157ce5ec2464fa65d27cc4e7cba6d",
      "debce5028174492ba76589f862d3b233",
      "2a6cedc6989743ef9ecb1ae4eeeed149",
      "7c76ce74fd18437b99c3cdf94872231d",
      "36406908fab1479e8bae16ffc4e20545",
      "3e4a3f3327c04f2084686f06440eeb59",
      "7e4bb5da2dc34be38bc708e16e950f5c",
      "7c0b352410554d4fbb697b4adeae9936",
      "2412f5ee29d3445d809ddebe69f01cc1",
      "b502b57b4dd74f7c89d4c25b71e62033",
      "69633a126892421cbd9a224e5910fbe3",
      "59ed569867274c3f81e9886a72736577",
      "2bbc0722feff42ff98a167400ced60cb",
      "0682533a507e4e5ab803ac87336a0d13",
      "b077f1a189fc45c1a0061aec2f291505",
      "fedd1364c2ff412282a05f0c695df48a",
      "87e1756f26c6468ba0a5be61c1190333",
      "6ae6460cfc124466b5679bd5252e5acb",
      "01dd2616146e43c9883567de6afedb30",
      "2f4897c469a141049daec02aabd1bb5a",
      "9a7d33eb147f4980adc540dc28c0e8f0",
      "423645af46b94ff5ac210c9a2cec008f",
      "0a4357691cdd41b78e1ae1847e3accd1",
      "533d9bd225c24efda04c0b642ced6ada",
      "93b185fc7b8a45a69e964b7530f0895a",
      "94fd4fe846fc4acf9f1e935de770a5cd",
      "94dbe8fe15f14cb4a43069a4c2d45fc5",
      "5246b0e342cf4cf39b77a1dd538543be",
      "156971b0152b436bbeffea78a9cbe016",
      "f5796eef9d7b4d0e8e44559c87669ce0",
      "a7899d2108cf4daeae249da1a34f28d2",
      "a947e0a6c1364bde976f940d5cbea093",
      "bf0939ae7bd9414289c949f5544760f5",
      "c3dd34654b2f41de92721354ef665f94",
      "1c733aa6e59c4dbe98b0d5103de4c3a1",
      "e3305f6b346e4e46942e49a2a0de3eb9",
      "a384fe56732841c793be812fafd4a416",
      "c35101fc13c649ad82bc8f8d9e166f80",
      "db8403c9a3c74605a36447598d614fa4",
      "13fc921482274042b5e0b61cd372d6d1",
      "ee47914241b6457081427e447e89a79f",
      "097ff14604204eccb684cdcefed7129e",
      "18ba77a5629e4ccbb6400e9d7082940e"
     ]
    },
    "id": "XxHETmiflGD4",
    "outputId": "47588cd8-33c7-4b3a-b842-6c613f443821"
   },
   "outputs": [
    {
     "data": {
      "application/vnd.jupyter.widget-view+json": {
       "model_id": "02a05b8b593e49fbb00638f213b105c8",
       "version_major": 2,
       "version_minor": 0
      },
      "text/plain": [
       "  0%|          | 0/50 [00:00<?, ?it/s]"
      ]
     },
     "metadata": {},
     "output_type": "display_data"
    },
    {
     "data": {
      "application/vnd.jupyter.widget-view+json": {
       "model_id": "a9e75f84397e4bc397a68dd778c2752a",
       "version_major": 2,
       "version_minor": 0
      },
      "text/plain": [
       "  0%|          | 0/51 [00:00<?, ?it/s]"
      ]
     },
     "metadata": {},
     "output_type": "display_data"
    },
    {
     "name": "stdout",
     "output_type": "stream",
     "text": [
      "Epoch:1    Loss:3.0916408090030445    NumUpdates:51\n"
     ]
    },
    {
     "data": {
      "application/vnd.jupyter.widget-view+json": {
       "model_id": "5a4fa52da39d4b749d877860fc0a0296",
       "version_major": 2,
       "version_minor": 0
      },
      "text/plain": [
       "  0%|          | 0/51 [00:00<?, ?it/s]"
      ]
     },
     "metadata": {},
     "output_type": "display_data"
    },
    {
     "name": "stdout",
     "output_type": "stream",
     "text": [
      "Epoch:2    Loss:2.4448012838176654    NumUpdates:51\n"
     ]
    },
    {
     "data": {
      "application/vnd.jupyter.widget-view+json": {
       "model_id": "21719169f4054494b98124d8f9df1508",
       "version_major": 2,
       "version_minor": 0
      },
      "text/plain": [
       "  0%|          | 0/51 [00:00<?, ?it/s]"
      ]
     },
     "metadata": {},
     "output_type": "display_data"
    },
    {
     "name": "stdout",
     "output_type": "stream",
     "text": [
      "Epoch:3    Loss:1.9191021241393744    NumUpdates:51\n"
     ]
    },
    {
     "data": {
      "application/vnd.jupyter.widget-view+json": {
       "model_id": "2c5dc8f684e247d2be0bbe9491bbfa4c",
       "version_major": 2,
       "version_minor": 0
      },
      "text/plain": [
       "  0%|          | 0/51 [00:00<?, ?it/s]"
      ]
     },
     "metadata": {},
     "output_type": "display_data"
    },
    {
     "name": "stdout",
     "output_type": "stream",
     "text": [
      "Epoch:4    Loss:1.6287312788121842    NumUpdates:51\n"
     ]
    },
    {
     "data": {
      "application/vnd.jupyter.widget-view+json": {
       "model_id": "234682d83d7c47298d4defb5777f44d3",
       "version_major": 2,
       "version_minor": 0
      },
      "text/plain": [
       "  0%|          | 0/51 [00:00<?, ?it/s]"
      ]
     },
     "metadata": {},
     "output_type": "display_data"
    },
    {
     "name": "stdout",
     "output_type": "stream",
     "text": [
      "Epoch:5    Loss:1.462795521698746    NumUpdates:51\n"
     ]
    },
    {
     "data": {
      "application/vnd.jupyter.widget-view+json": {
       "model_id": "d33563bd127f4fa9b6093bfc30e1496d",
       "version_major": 2,
       "version_minor": 0
      },
      "text/plain": [
       "  0%|          | 0/51 [00:00<?, ?it/s]"
      ]
     },
     "metadata": {},
     "output_type": "display_data"
    },
    {
     "name": "stdout",
     "output_type": "stream",
     "text": [
      "Epoch:6    Loss:1.338064009068059    NumUpdates:51\n"
     ]
    },
    {
     "data": {
      "application/vnd.jupyter.widget-view+json": {
       "model_id": "af8f5c270a604cbabc884f45726db005",
       "version_major": 2,
       "version_minor": 0
      },
      "text/plain": [
       "  0%|          | 0/51 [00:00<?, ?it/s]"
      ]
     },
     "metadata": {},
     "output_type": "display_data"
    },
    {
     "name": "stdout",
     "output_type": "stream",
     "text": [
      "Epoch:7    Loss:1.2598869286331476    NumUpdates:51\n"
     ]
    },
    {
     "data": {
      "application/vnd.jupyter.widget-view+json": {
       "model_id": "764f6e4607484dad987a577de36d7fcd",
       "version_major": 2,
       "version_minor": 0
      },
      "text/plain": [
       "  0%|          | 0/51 [00:00<?, ?it/s]"
      ]
     },
     "metadata": {},
     "output_type": "display_data"
    },
    {
     "name": "stdout",
     "output_type": "stream",
     "text": [
      "Epoch:8    Loss:1.1965055465698242    NumUpdates:51\n"
     ]
    },
    {
     "data": {
      "application/vnd.jupyter.widget-view+json": {
       "model_id": "b9c88a4a5c0945d79cd044261e902053",
       "version_major": 2,
       "version_minor": 0
      },
      "text/plain": [
       "  0%|          | 0/51 [00:00<?, ?it/s]"
      ]
     },
     "metadata": {},
     "output_type": "display_data"
    },
    {
     "name": "stdout",
     "output_type": "stream",
     "text": [
      "Epoch:9    Loss:1.1697289639828252    NumUpdates:51\n"
     ]
    },
    {
     "data": {
      "application/vnd.jupyter.widget-view+json": {
       "model_id": "acf41f4374254a2f9dbf539432c8125c",
       "version_major": 2,
       "version_minor": 0
      },
      "text/plain": [
       "  0%|          | 0/51 [00:00<?, ?it/s]"
      ]
     },
     "metadata": {},
     "output_type": "display_data"
    },
    {
     "name": "stdout",
     "output_type": "stream",
     "text": [
      "Epoch:10    Loss:1.134702811054155    NumUpdates:51\n"
     ]
    },
    {
     "data": {
      "application/vnd.jupyter.widget-view+json": {
       "model_id": "553420f2d46648a3ada837f56b2e7597",
       "version_major": 2,
       "version_minor": 0
      },
      "text/plain": [
       "  0%|          | 0/51 [00:00<?, ?it/s]"
      ]
     },
     "metadata": {},
     "output_type": "display_data"
    },
    {
     "name": "stdout",
     "output_type": "stream",
     "text": [
      "Epoch:11    Loss:1.13827491274067    NumUpdates:51\n"
     ]
    },
    {
     "data": {
      "application/vnd.jupyter.widget-view+json": {
       "model_id": "41d6012eb69740eb9e392ceba805b69f",
       "version_major": 2,
       "version_minor": 0
      },
      "text/plain": [
       "  0%|          | 0/51 [00:00<?, ?it/s]"
      ]
     },
     "metadata": {},
     "output_type": "display_data"
    },
    {
     "name": "stdout",
     "output_type": "stream",
     "text": [
      "Epoch:12    Loss:1.074782133102417    NumUpdates:51\n"
     ]
    },
    {
     "data": {
      "application/vnd.jupyter.widget-view+json": {
       "model_id": "2f284233e2774a8aac530355d1c1bad6",
       "version_major": 2,
       "version_minor": 0
      },
      "text/plain": [
       "  0%|          | 0/51 [00:00<?, ?it/s]"
      ]
     },
     "metadata": {},
     "output_type": "display_data"
    },
    {
     "name": "stdout",
     "output_type": "stream",
     "text": [
      "Epoch:13    Loss:1.047883411248525    NumUpdates:51\n"
     ]
    },
    {
     "data": {
      "application/vnd.jupyter.widget-view+json": {
       "model_id": "0eff7131c61247e9a0aaea23198c4fbe",
       "version_major": 2,
       "version_minor": 0
      },
      "text/plain": [
       "  0%|          | 0/51 [00:00<?, ?it/s]"
      ]
     },
     "metadata": {},
     "output_type": "display_data"
    },
    {
     "name": "stdout",
     "output_type": "stream",
     "text": [
      "Epoch:14    Loss:1.0220145910393958    NumUpdates:51\n"
     ]
    },
    {
     "data": {
      "application/vnd.jupyter.widget-view+json": {
       "model_id": "ea8fdfdf659b4757a868199e3ebfc6f9",
       "version_major": 2,
       "version_minor": 0
      },
      "text/plain": [
       "  0%|          | 0/51 [00:00<?, ?it/s]"
      ]
     },
     "metadata": {},
     "output_type": "display_data"
    },
    {
     "name": "stdout",
     "output_type": "stream",
     "text": [
      "Epoch:15    Loss:0.9577525573618272    NumUpdates:51\n"
     ]
    },
    {
     "data": {
      "application/vnd.jupyter.widget-view+json": {
       "model_id": "14b0f9710b5640d9b030a87f05b393d1",
       "version_major": 2,
       "version_minor": 0
      },
      "text/plain": [
       "  0%|          | 0/51 [00:00<?, ?it/s]"
      ]
     },
     "metadata": {},
     "output_type": "display_data"
    },
    {
     "name": "stdout",
     "output_type": "stream",
     "text": [
      "Epoch:16    Loss:0.8911933723618003    NumUpdates:51\n"
     ]
    },
    {
     "data": {
      "application/vnd.jupyter.widget-view+json": {
       "model_id": "bfeac6942e384d0b8446c8936378d58e",
       "version_major": 2,
       "version_minor": 0
      },
      "text/plain": [
       "  0%|          | 0/51 [00:00<?, ?it/s]"
      ]
     },
     "metadata": {},
     "output_type": "display_data"
    },
    {
     "name": "stdout",
     "output_type": "stream",
     "text": [
      "Epoch:17    Loss:0.8617152314560086    NumUpdates:51\n"
     ]
    },
    {
     "data": {
      "application/vnd.jupyter.widget-view+json": {
       "model_id": "a0584ad16ba0476e925f0760874e5c00",
       "version_major": 2,
       "version_minor": 0
      },
      "text/plain": [
       "  0%|          | 0/51 [00:00<?, ?it/s]"
      ]
     },
     "metadata": {},
     "output_type": "display_data"
    },
    {
     "name": "stdout",
     "output_type": "stream",
     "text": [
      "Epoch:18    Loss:0.8544135900104747    NumUpdates:51\n"
     ]
    },
    {
     "data": {
      "application/vnd.jupyter.widget-view+json": {
       "model_id": "9923cebaa5804b01a7180eb061ae2ee7",
       "version_major": 2,
       "version_minor": 0
      },
      "text/plain": [
       "  0%|          | 0/51 [00:00<?, ?it/s]"
      ]
     },
     "metadata": {},
     "output_type": "display_data"
    },
    {
     "name": "stdout",
     "output_type": "stream",
     "text": [
      "Epoch:19    Loss:0.8854422499151791    NumUpdates:51\n"
     ]
    },
    {
     "data": {
      "application/vnd.jupyter.widget-view+json": {
       "model_id": "28015d75264f41e28a1c38add375074f",
       "version_major": 2,
       "version_minor": 0
      },
      "text/plain": [
       "  0%|          | 0/51 [00:00<?, ?it/s]"
      ]
     },
     "metadata": {},
     "output_type": "display_data"
    },
    {
     "name": "stdout",
     "output_type": "stream",
     "text": [
      "Epoch:20    Loss:0.966071111314437    NumUpdates:51\n"
     ]
    },
    {
     "data": {
      "application/vnd.jupyter.widget-view+json": {
       "model_id": "e4cc6ae0eea14e5190fab2aba06171f0",
       "version_major": 2,
       "version_minor": 0
      },
      "text/plain": [
       "  0%|          | 0/51 [00:00<?, ?it/s]"
      ]
     },
     "metadata": {},
     "output_type": "display_data"
    },
    {
     "name": "stdout",
     "output_type": "stream",
     "text": [
      "Epoch:21    Loss:0.8648616204074785    NumUpdates:51\n"
     ]
    },
    {
     "data": {
      "application/vnd.jupyter.widget-view+json": {
       "model_id": "7dd56eec193a47ddbaf4bcb6fbb2660d",
       "version_major": 2,
       "version_minor": 0
      },
      "text/plain": [
       "  0%|          | 0/51 [00:00<?, ?it/s]"
      ]
     },
     "metadata": {},
     "output_type": "display_data"
    },
    {
     "name": "stdout",
     "output_type": "stream",
     "text": [
      "Epoch:22    Loss:0.8023002206110487    NumUpdates:51\n"
     ]
    },
    {
     "data": {
      "application/vnd.jupyter.widget-view+json": {
       "model_id": "884c453ea76948b9af15ee01cba880f4",
       "version_major": 2,
       "version_minor": 0
      },
      "text/plain": [
       "  0%|          | 0/51 [00:00<?, ?it/s]"
      ]
     },
     "metadata": {},
     "output_type": "display_data"
    },
    {
     "name": "stdout",
     "output_type": "stream",
     "text": [
      "Epoch:23    Loss:0.7963328618629306    NumUpdates:51\n"
     ]
    },
    {
     "data": {
      "application/vnd.jupyter.widget-view+json": {
       "model_id": "b19fde4eb890497bacb3ae9f7fd98a41",
       "version_major": 2,
       "version_minor": 0
      },
      "text/plain": [
       "  0%|          | 0/51 [00:00<?, ?it/s]"
      ]
     },
     "metadata": {},
     "output_type": "display_data"
    },
    {
     "name": "stdout",
     "output_type": "stream",
     "text": [
      "Epoch:24    Loss:0.8482310070711023    NumUpdates:51\n"
     ]
    },
    {
     "data": {
      "application/vnd.jupyter.widget-view+json": {
       "model_id": "1923b1a068734bfd819f39a2f75fdeba",
       "version_major": 2,
       "version_minor": 0
      },
      "text/plain": [
       "  0%|          | 0/51 [00:00<?, ?it/s]"
      ]
     },
     "metadata": {},
     "output_type": "display_data"
    },
    {
     "name": "stdout",
     "output_type": "stream",
     "text": [
      "Epoch:25    Loss:0.8287536209704829    NumUpdates:51\n"
     ]
    },
    {
     "data": {
      "application/vnd.jupyter.widget-view+json": {
       "model_id": "3261027651ea4a63921f4f1cf89012bc",
       "version_major": 2,
       "version_minor": 0
      },
      "text/plain": [
       "  0%|          | 0/51 [00:00<?, ?it/s]"
      ]
     },
     "metadata": {},
     "output_type": "display_data"
    },
    {
     "name": "stdout",
     "output_type": "stream",
     "text": [
      "Epoch:26    Loss:0.8210709305370555    NumUpdates:51\n"
     ]
    },
    {
     "data": {
      "application/vnd.jupyter.widget-view+json": {
       "model_id": "641834ec2583406097149414f913c8cb",
       "version_major": 2,
       "version_minor": 0
      },
      "text/plain": [
       "  0%|          | 0/51 [00:00<?, ?it/s]"
      ]
     },
     "metadata": {},
     "output_type": "display_data"
    },
    {
     "name": "stdout",
     "output_type": "stream",
     "text": [
      "Epoch:27    Loss:0.7841405611412198    NumUpdates:51\n"
     ]
    },
    {
     "data": {
      "application/vnd.jupyter.widget-view+json": {
       "model_id": "4e3f2579860f4995a4b16aaa7dbe7ccc",
       "version_major": 2,
       "version_minor": 0
      },
      "text/plain": [
       "  0%|          | 0/51 [00:00<?, ?it/s]"
      ]
     },
     "metadata": {},
     "output_type": "display_data"
    },
    {
     "name": "stdout",
     "output_type": "stream",
     "text": [
      "Epoch:28    Loss:0.7642733326145247    NumUpdates:51\n"
     ]
    },
    {
     "data": {
      "application/vnd.jupyter.widget-view+json": {
       "model_id": "0590c16d6b244cf286055a3f86d13d68",
       "version_major": 2,
       "version_minor": 0
      },
      "text/plain": [
       "  0%|          | 0/51 [00:00<?, ?it/s]"
      ]
     },
     "metadata": {},
     "output_type": "display_data"
    },
    {
     "name": "stdout",
     "output_type": "stream",
     "text": [
      "Epoch:29    Loss:0.7630844875877979    NumUpdates:51\n"
     ]
    },
    {
     "data": {
      "application/vnd.jupyter.widget-view+json": {
       "model_id": "e2507f1c2c99473cb85209c2af728664",
       "version_major": 2,
       "version_minor": 0
      },
      "text/plain": [
       "  0%|          | 0/51 [00:00<?, ?it/s]"
      ]
     },
     "metadata": {},
     "output_type": "display_data"
    },
    {
     "name": "stdout",
     "output_type": "stream",
     "text": [
      "Epoch:30    Loss:0.7558378530483619    NumUpdates:51\n"
     ]
    },
    {
     "data": {
      "application/vnd.jupyter.widget-view+json": {
       "model_id": "76ada1e5a33346478fcc25b508515dd9",
       "version_major": 2,
       "version_minor": 0
      },
      "text/plain": [
       "  0%|          | 0/51 [00:00<?, ?it/s]"
      ]
     },
     "metadata": {},
     "output_type": "display_data"
    },
    {
     "name": "stdout",
     "output_type": "stream",
     "text": [
      "Epoch:31    Loss:0.7394053316583821    NumUpdates:51\n"
     ]
    },
    {
     "data": {
      "application/vnd.jupyter.widget-view+json": {
       "model_id": "82632f3620df4b4686081917b6683655",
       "version_major": 2,
       "version_minor": 0
      },
      "text/plain": [
       "  0%|          | 0/51 [00:00<?, ?it/s]"
      ]
     },
     "metadata": {},
     "output_type": "display_data"
    },
    {
     "name": "stdout",
     "output_type": "stream",
     "text": [
      "Epoch:32    Loss:0.7397293647130331    NumUpdates:51\n"
     ]
    },
    {
     "data": {
      "application/vnd.jupyter.widget-view+json": {
       "model_id": "3456e6a8a3d9484a87ce2512edfebb6c",
       "version_major": 2,
       "version_minor": 0
      },
      "text/plain": [
       "  0%|          | 0/51 [00:00<?, ?it/s]"
      ]
     },
     "metadata": {},
     "output_type": "display_data"
    },
    {
     "name": "stdout",
     "output_type": "stream",
     "text": [
      "Epoch:33    Loss:0.7359461270126642    NumUpdates:51\n"
     ]
    },
    {
     "data": {
      "application/vnd.jupyter.widget-view+json": {
       "model_id": "3cb74bdefb9346b6b06cedf3e29c382c",
       "version_major": 2,
       "version_minor": 0
      },
      "text/plain": [
       "  0%|          | 0/51 [00:00<?, ?it/s]"
      ]
     },
     "metadata": {},
     "output_type": "display_data"
    },
    {
     "name": "stdout",
     "output_type": "stream",
     "text": [
      "Epoch:34    Loss:0.7334616149173063    NumUpdates:51\n"
     ]
    },
    {
     "data": {
      "application/vnd.jupyter.widget-view+json": {
       "model_id": "b266f4ade8a544599e27f4f995423946",
       "version_major": 2,
       "version_minor": 0
      },
      "text/plain": [
       "  0%|          | 0/51 [00:00<?, ?it/s]"
      ]
     },
     "metadata": {},
     "output_type": "display_data"
    },
    {
     "name": "stdout",
     "output_type": "stream",
     "text": [
      "Epoch:35    Loss:0.912491943321976    NumUpdates:51\n"
     ]
    },
    {
     "data": {
      "application/vnd.jupyter.widget-view+json": {
       "model_id": "c359a10eef1f412b957ecbed3b544c93",
       "version_major": 2,
       "version_minor": 0
      },
      "text/plain": [
       "  0%|          | 0/51 [00:00<?, ?it/s]"
      ]
     },
     "metadata": {},
     "output_type": "display_data"
    },
    {
     "name": "stdout",
     "output_type": "stream",
     "text": [
      "Epoch:36    Loss:0.857014349862641    NumUpdates:51\n"
     ]
    },
    {
     "data": {
      "application/vnd.jupyter.widget-view+json": {
       "model_id": "aaf09c03a1df4c278a7efc5e442e7ff1",
       "version_major": 2,
       "version_minor": 0
      },
      "text/plain": [
       "  0%|          | 0/51 [00:00<?, ?it/s]"
      ]
     },
     "metadata": {},
     "output_type": "display_data"
    },
    {
     "name": "stdout",
     "output_type": "stream",
     "text": [
      "Epoch:37    Loss:0.7864211680842381    NumUpdates:51\n"
     ]
    },
    {
     "data": {
      "application/vnd.jupyter.widget-view+json": {
       "model_id": "1dec937b09a24c258cdccf3355261598",
       "version_major": 2,
       "version_minor": 0
      },
      "text/plain": [
       "  0%|          | 0/51 [00:00<?, ?it/s]"
      ]
     },
     "metadata": {},
     "output_type": "display_data"
    },
    {
     "name": "stdout",
     "output_type": "stream",
     "text": [
      "Epoch:38    Loss:0.7335886768266267    NumUpdates:51\n"
     ]
    },
    {
     "data": {
      "application/vnd.jupyter.widget-view+json": {
       "model_id": "0624c86aa26342d1ba4730ccae798e0e",
       "version_major": 2,
       "version_minor": 0
      },
      "text/plain": [
       "  0%|          | 0/51 [00:00<?, ?it/s]"
      ]
     },
     "metadata": {},
     "output_type": "display_data"
    },
    {
     "name": "stdout",
     "output_type": "stream",
     "text": [
      "Epoch:39    Loss:0.708309413171282    NumUpdates:51\n"
     ]
    },
    {
     "data": {
      "application/vnd.jupyter.widget-view+json": {
       "model_id": "bec109ef054447288eb370d3defa60c0",
       "version_major": 2,
       "version_minor": 0
      },
      "text/plain": [
       "  0%|          | 0/51 [00:00<?, ?it/s]"
      ]
     },
     "metadata": {},
     "output_type": "display_data"
    },
    {
     "name": "stdout",
     "output_type": "stream",
     "text": [
      "Epoch:40    Loss:0.7032125019559673    NumUpdates:51\n"
     ]
    },
    {
     "data": {
      "application/vnd.jupyter.widget-view+json": {
       "model_id": "2c4b0a303905477ba88bb3b485eb9a7a",
       "version_major": 2,
       "version_minor": 0
      },
      "text/plain": [
       "  0%|          | 0/51 [00:00<?, ?it/s]"
      ]
     },
     "metadata": {},
     "output_type": "display_data"
    },
    {
     "name": "stdout",
     "output_type": "stream",
     "text": [
      "Epoch:41    Loss:0.6993528288953444    NumUpdates:51\n"
     ]
    },
    {
     "data": {
      "application/vnd.jupyter.widget-view+json": {
       "model_id": "160bba68cc1d4d1283b16abf115903af",
       "version_major": 2,
       "version_minor": 0
      },
      "text/plain": [
       "  0%|          | 0/51 [00:00<?, ?it/s]"
      ]
     },
     "metadata": {},
     "output_type": "display_data"
    },
    {
     "name": "stdout",
     "output_type": "stream",
     "text": [
      "Epoch:42    Loss:0.6973183973162782    NumUpdates:51\n"
     ]
    },
    {
     "data": {
      "application/vnd.jupyter.widget-view+json": {
       "model_id": "60f2966ea76c4326a08fac3c497ba2f4",
       "version_major": 2,
       "version_minor": 0
      },
      "text/plain": [
       "  0%|          | 0/51 [00:00<?, ?it/s]"
      ]
     },
     "metadata": {},
     "output_type": "display_data"
    },
    {
     "name": "stdout",
     "output_type": "stream",
     "text": [
      "Epoch:43    Loss:0.7001666940894782    NumUpdates:51\n"
     ]
    },
    {
     "data": {
      "application/vnd.jupyter.widget-view+json": {
       "model_id": "442496c524a34401bc5b33115427cfc2",
       "version_major": 2,
       "version_minor": 0
      },
      "text/plain": [
       "  0%|          | 0/51 [00:00<?, ?it/s]"
      ]
     },
     "metadata": {},
     "output_type": "display_data"
    },
    {
     "name": "stdout",
     "output_type": "stream",
     "text": [
      "Epoch:44    Loss:0.6976179211747413    NumUpdates:51\n"
     ]
    },
    {
     "data": {
      "application/vnd.jupyter.widget-view+json": {
       "model_id": "648f457fd14d4580a3ad8c51ae741a7f",
       "version_major": 2,
       "version_minor": 0
      },
      "text/plain": [
       "  0%|          | 0/51 [00:00<?, ?it/s]"
      ]
     },
     "metadata": {},
     "output_type": "display_data"
    },
    {
     "name": "stdout",
     "output_type": "stream",
     "text": [
      "Epoch:45    Loss:0.698658942007551    NumUpdates:51\n"
     ]
    },
    {
     "data": {
      "application/vnd.jupyter.widget-view+json": {
       "model_id": "868955c587dc4324804a52cdbbcf4863",
       "version_major": 2,
       "version_minor": 0
      },
      "text/plain": [
       "  0%|          | 0/51 [00:00<?, ?it/s]"
      ]
     },
     "metadata": {},
     "output_type": "display_data"
    },
    {
     "name": "stdout",
     "output_type": "stream",
     "text": [
      "Epoch:46    Loss:0.7139831839823255    NumUpdates:51\n"
     ]
    },
    {
     "data": {
      "application/vnd.jupyter.widget-view+json": {
       "model_id": "c45c2e8b1c634162bb4917d902b311ec",
       "version_major": 2,
       "version_minor": 0
      },
      "text/plain": [
       "  0%|          | 0/51 [00:00<?, ?it/s]"
      ]
     },
     "metadata": {},
     "output_type": "display_data"
    },
    {
     "name": "stdout",
     "output_type": "stream",
     "text": [
      "Epoch:47    Loss:0.7137583131883659    NumUpdates:51\n"
     ]
    },
    {
     "data": {
      "application/vnd.jupyter.widget-view+json": {
       "model_id": "69633a126892421cbd9a224e5910fbe3",
       "version_major": 2,
       "version_minor": 0
      },
      "text/plain": [
       "  0%|          | 0/51 [00:00<?, ?it/s]"
      ]
     },
     "metadata": {},
     "output_type": "display_data"
    },
    {
     "name": "stdout",
     "output_type": "stream",
     "text": [
      "Epoch:48    Loss:0.8418545652838314    NumUpdates:51\n"
     ]
    },
    {
     "data": {
      "application/vnd.jupyter.widget-view+json": {
       "model_id": "423645af46b94ff5ac210c9a2cec008f",
       "version_major": 2,
       "version_minor": 0
      },
      "text/plain": [
       "  0%|          | 0/51 [00:00<?, ?it/s]"
      ]
     },
     "metadata": {},
     "output_type": "display_data"
    },
    {
     "name": "stdout",
     "output_type": "stream",
     "text": [
      "Epoch:49    Loss:0.7703956272087845    NumUpdates:51\n"
     ]
    },
    {
     "data": {
      "application/vnd.jupyter.widget-view+json": {
       "model_id": "bf0939ae7bd9414289c949f5544760f5",
       "version_major": 2,
       "version_minor": 0
      },
      "text/plain": [
       "  0%|          | 0/51 [00:00<?, ?it/s]"
      ]
     },
     "metadata": {},
     "output_type": "display_data"
    },
    {
     "name": "stdout",
     "output_type": "stream",
     "text": [
      "Epoch:50    Loss:0.6744280749676275    NumUpdates:51\n"
     ]
    }
   ],
   "source": [
    "epoch_losses = []\n",
    "iteration_losses = []\n",
    "num_updates_epochs = []\n",
    "for epoch in tqdm(range(1, num_epochs+1)):\n",
    "    epoch_loss_list = []\n",
    "    num_updates_epoch = 0\n",
    "    for image_batch, text_batch in tqdm(train_loader, leave=False):\n",
    "        optimizer.zero_grad()\n",
    "        text_batch_logits = crnn(image_batch.to(device))\n",
    "        loss = compute_loss(text_batch, text_batch_logits)\n",
    "        iteration_loss = loss.item()\n",
    "\n",
    "        if np.isnan(iteration_loss) or np.isinf(iteration_loss):\n",
    "            continue\n",
    "\n",
    "        num_updates_epoch += 1\n",
    "        iteration_losses.append(iteration_loss)\n",
    "        epoch_loss_list.append(iteration_loss)\n",
    "        loss.backward()\n",
    "        nn.utils.clip_grad_norm_(crnn.parameters(), clip_norm)\n",
    "        optimizer.step()\n",
    "\n",
    "    epoch_loss = np.mean(epoch_loss_list)\n",
    "    print(\"Epoch:{}    Loss:{}    NumUpdates:{}\".format(epoch, epoch_loss, num_updates_epoch))\n",
    "    epoch_losses.append(epoch_loss)\n",
    "    num_updates_epochs.append(num_updates_epoch)\n",
    "    lr_scheduler.step(epoch_loss)"
   ]
  },
  {
   "cell_type": "code",
   "execution_count": 40,
   "metadata": {
    "colab": {
     "base_uri": "https://localhost:8080/",
     "height": 465
    },
    "id": "fXDHjWJWvV-W",
    "outputId": "0b1262e4-359d-4992-8887-d7b8f7d480ec"
   },
   "outputs": [
    {
     "data": {
      "image/png": "[encoded data removed]",
      "text/plain": [
       "<Figure size 1000x500 with 2 Axes>"
      ]
     },
     "metadata": {},
     "output_type": "display_data"
    }
   ],
   "source": [
    "\n",
    "fig, (ax1, ax2) = plt.subplots(1, 2, figsize=(10, 5))\n",
    "\n",
    "ax1.plot(epoch_losses)\n",
    "ax1.set_xlabel(\"Epochs\")\n",
    "ax1.set_ylabel(\"Loss\")\n",
    "\n",
    "ax2.plot(iteration_losses)\n",
    "ax2.set_xlabel(\"Iterations\")\n",
    "ax2.set_ylabel(\"Loss\")\n",
    "\n",
    "plt.show()"
   ]
  },
  {
   "cell_type": "code",
   "execution_count": 41,
   "metadata": {
    "id": "9k-Gqf3ZvZhK"
   },
   "outputs": [],
   "source": [
    "def decode_predictions(text_batch_logits):\n",
    "\n",
    "    text_batch_tokens = F.softmax(text_batch_logits, 2).argmax(2) # [T, batch_size]\n",
    "    text_batch_tokens = text_batch_tokens.numpy().T # [batch_size, T]\n",
    "\n",
    "    text_batch_tokens_new = []\n",
    "    for text_tokens in text_batch_tokens:\n",
    "        text = [idx2char[idx] for idx in text_tokens]\n",
    "        text = \"\".join(text)\n",
    "        text_batch_tokens_new.append(text)\n",
    "\n",
    "    return text_batch_tokens_new"
   ]
  },
  {
   "cell_type": "code",
   "execution_count": 42,
   "metadata": {
    "colab": {
     "base_uri": "https://localhost:8080/",
     "height": 49,
     "referenced_widgets": [
      "306a34efb8124972afe4e28b5925b95c",
      "c9a27c87beac49e59b74ab13995b4aac",
      "a0564caf93b04599b6de111e26e03e0b",
      "199cedd774944358b2eb61bfc16cb424",
      "7c4b0d1f683e4f3f9c0b5a5f238d2e1d",
      "9f05240fad3f46f38894b8e7abd20b1a",
      "a6d9f7b91642454980b41871c7ef0b3d",
      "0a66cec3c8c44d079fc1e6db1aa9eb5d",
      "4557f2ea09e6491eaf1c7a68279c79a8",
      "eb75b50767454a94979dfdf6a563f183",
      "39a1ddc8fe0843f5bf69181c189c2773"
     ]
    },
    "id": "ZE-iikKUvd8f",
    "outputId": "bdbc0bbd-9f7b-4644-dad7-5fde21e1b47c"
   },
   "outputs": [
    {
     "data": {
      "application/vnd.jupyter.widget-view+json": {
       "model_id": "306a34efb8124972afe4e28b5925b95c",
       "version_major": 2,
       "version_minor": 0
      },
      "text/plain": [
       "  0%|          | 0/51 [00:00<?, ?it/s]"
      ]
     },
     "metadata": {},
     "output_type": "display_data"
    }
   ],
   "source": [
    "results_train = pd.DataFrame(columns=['actual', 'prediction'])\n",
    "train_loader = DataLoader(trainset, batch_size=16, num_workers=1, shuffle=False)\n",
    "with torch.no_grad():\n",
    "    for image_batch, text_batch in tqdm(train_loader, leave=True):\n",
    "        text_batch_logits = crnn(image_batch.to(device)) # [T, batch_size, num_classes==num_features]\n",
    "        text_batch_pred = decode_predictions(text_batch_logits.cpu())\n",
    "        #print(text_batch, text_batch_pred)\n",
    "        df = pd.DataFrame(columns=['actual', 'prediction'])\n",
    "        df['actual'] = text_batch\n",
    "        df['prediction'] = text_batch_pred\n",
    "        results_train = pd.concat([results_train, df])\n",
    "results_train = results_train.reset_index(drop=True)\n"
   ]
  },
  {
   "cell_type": "code",
   "execution_count": 43,
   "metadata": {
    "colab": {
     "base_uri": "https://localhost:8080/",
     "height": 49,
     "referenced_widgets": [
      "9cb70b53761844148cf3c577c5a64d3b",
      "4a368cd387eb40b39eafec113abf8c2d",
      "bd025a59ea294845a1bc4f45298f9341",
      "bb0a2a9931f84a459b55f84f302e3674",
      "1e3b07b215db4e88ae3f36249390a18b",
      "975f4bae841f4d00ae22ab97ed03968b",
      "fa44989d05314ea181131fbc691c7292",
      "29887ed147954335b354f1ef0d3e59b8",
      "9afbe66c51a14b7984b5d47a0c0a691c",
      "bebd2b9a55a34ea4a28b7ac0164748ca",
      "99a05f1927ca421eb58eed7c062a5d2c"
     ]
    },
    "id": "7Hg3nh1bvkLc",
    "outputId": "7497856b-3131-47c7-dfc7-b017640c1eae"
   },
   "outputs": [
    {
     "data": {
      "application/vnd.jupyter.widget-view+json": {
       "model_id": "9cb70b53761844148cf3c577c5a64d3b",
       "version_major": 2,
       "version_minor": 0
      },
      "text/plain": [
       "  0%|          | 0/17 [00:00<?, ?it/s]"
      ]
     },
     "metadata": {},
     "output_type": "display_data"
    }
   ],
   "source": [
    "\n",
    "results_test = pd.DataFrame(columns=['actual', 'prediction'])\n",
    "test_loader = DataLoader(testset, batch_size=16, num_workers=1, shuffle=False)\n",
    "with torch.no_grad():\n",
    "    for image_batch, text_batch in tqdm(test_loader, leave=True):\n",
    "        text_batch_logits = crnn(image_batch.to(device)) # [T, batch_size, num_classes==num_features]\n",
    "        text_batch_pred = decode_predictions(text_batch_logits.cpu())\n",
    "        #print(text_batch, text_batch_pred)\n",
    "        df = pd.DataFrame(columns=['actual', 'prediction'])\n",
    "        df['actual'] = text_batch\n",
    "        df['prediction'] = text_batch_pred\n",
    "        results_test = pd.concat([results_test, df])\n",
    "results_test = results_test.reset_index(drop=True)"
   ]
  },
  {
   "cell_type": "code",
   "execution_count": 44,
   "metadata": {
    "colab": {
     "base_uri": "https://localhost:8080/",
     "height": 223
    },
    "id": "tkVRDjaZv4jh",
    "outputId": "b8480887-c545-450c-a57a-5de0ad68097d"
   },
   "outputs": [
    {
     "name": "stdout",
     "output_type": "stream",
     "text": [
      "(810, 2)\n"
     ]
    },
    {
     "data": {
      "application/vnd.google.colaboratory.intrinsic+json": {
       "summary": "{\n  \"name\": \"results_train\",\n  \"rows\": 810,\n  \"fields\": [\n    {\n      \"column\": \"actual\",\n      \"properties\": {\n        \"dtype\": \"string\",\n        \"num_unique_values\": 810,\n        \"samples\": [\n          \"b5pnn\",\n          \"nm46n\",\n          \"gmmne\"\n        ],\n        \"semantic_type\": \"\",\n        \"description\": \"\"\n      }\n    },\n    {\n      \"column\": \"prediction\",\n      \"properties\": {\n        \"dtype\": \"string\",\n        \"num_unique_values\": 805,\n        \"samples\": [\n          \"nnxxxxff88\",\n          \"66ee66ppnn\",\n          \"ccwwggyyxx\"\n        ],\n        \"semantic_type\": \"\",\n        \"description\": \"\"\n      }\n    }\n  ]\n}",
       "type": "dataframe",
       "variable_name": "results_train"
      },
      "text/html": [
       "\n",
       "  <div id=\"df-4bc719c9-eae1-4dad-93c0-324adb2dac81\" class=\"colab-df-container\">\n",
       "    <div>\n",
       "<style scoped>\n",
       "    .dataframe tbody tr th:only-of-type {\n",
       "        vertical-align: middle;\n",
       "    }\n",
       "\n",
       "    .dataframe tbody tr th {\n",
       "        vertical-align: top;\n",
       "    }\n",
       "\n",
       "    .dataframe thead th {\n",
       "        text-align: right;\n",
       "    }\n",
       "</style>\n",
       "<table border=\"1\" class=\"dataframe\">\n",
       "  <thead>\n",
       "    <tr style=\"text-align: right;\">\n",
       "      <th></th>\n",
       "      <th>actual</th>\n",
       "      <th>prediction</th>\n",
       "    </tr>\n",
       "  </thead>\n",
       "  <tbody>\n",
       "    <tr>\n",
       "      <th>0</th>\n",
       "      <td>ndecc</td>\n",
       "      <td>nnddeecccc</td>\n",
       "    </tr>\n",
       "    <tr>\n",
       "      <th>1</th>\n",
       "      <td>gecmf</td>\n",
       "      <td>ggeeccmmff</td>\n",
       "    </tr>\n",
       "    <tr>\n",
       "      <th>2</th>\n",
       "      <td>325fb</td>\n",
       "      <td>332255ffbb</td>\n",
       "    </tr>\n",
       "    <tr>\n",
       "      <th>3</th>\n",
       "      <td>6f857</td>\n",
       "      <td>66ff885577</td>\n",
       "    </tr>\n",
       "    <tr>\n",
       "      <th>4</th>\n",
       "      <td>87nym</td>\n",
       "      <td>8877nnyymm</td>\n",
       "    </tr>\n",
       "  </tbody>\n",
       "</table>\n",
       "</div>\n",
       "    <div class=\"colab-df-buttons\">\n",
       "\n",
       "  <div class=\"colab-df-container\">\n",
       "    <button class=\"colab-df-convert\" onclick=\"convertToInteractive('df-4bc719c9-eae1-4dad-93c0-324adb2dac81')\"\n",
       "            title=\"Convert this dataframe to an interactive table.\"\n",
       "            style=\"display:none;\">\n",
       "\n",
       "  <svg xmlns=\"http://www.w3.org/2000/svg\" height=\"24px\" viewBox=\"0 -960 960 960\">\n",
       "    <path d=\"M120-120v-720h720v720H120Zm60-500h600v-160H180v160Zm220 220h160v-160H400v160Zm0 220h160v-160H400v160ZM180-400h160v-160H180v160Zm440 0h160v-160H620v160ZM180-180h160v-160H180v160Zm440 0h160v-160H620v160Z\"/>\n",
       "  </svg>\n",
       "    </button>\n",
       "\n",
       "  <style>\n",
       "    .colab-df-container {\n",
       "      display:flex;\n",
       "      gap: 12px;\n",
       "    }\n",
       "\n",
       "    .colab-df-convert {\n",
       "      background-color: #E8F0FE;\n",
       "      border: none;\n",
       "      border-radius: 50%;\n",
       "      cursor: pointer;\n",
       "      display: none;\n",
       "      fill: #1967D2;\n",
       "      height: 32px;\n",
       "      padding: 0 0 0 0;\n",
       "      width: 32px;\n",
       "    }\n",
       "\n",
       "    .colab-df-convert:hover {\n",
       "      background-color: #E2EBFA;\n",
       "      box-shadow: 0px 1px 2px rgba(60, 64, 67, 0.3), 0px 1px 3px 1px rgba(60, 64, 67, 0.15);\n",
       "      fill: #174EA6;\n",
       "    }\n",
       "\n",
       "    .colab-df-buttons div {\n",
       "      margin-bottom: 4px;\n",
       "    }\n",
       "\n",
       "    [theme=dark] .colab-df-convert {\n",
       "      background-color: #3B4455;\n",
       "      fill: #D2E3FC;\n",
       "    }\n",
       "\n",
       "    [theme=dark] .colab-df-convert:hover {\n",
       "      background-color: #434B5C;\n",
       "      box-shadow: 0px 1px 3px 1px rgba(0, 0, 0, 0.15);\n",
       "      filter: drop-shadow(0px 1px 2px rgba(0, 0, 0, 0.3));\n",
       "      fill: #FFFFFF;\n",
       "    }\n",
       "  </style>\n",
       "\n",
       "    <script>\n",
       "      const buttonEl =\n",
       "        document.querySelector('#df-4bc719c9-eae1-4dad-93c0-324adb2dac81 button.colab-df-convert');\n",
       "      buttonEl.style.display =\n",
       "        google.colab.kernel.accessAllowed ? 'block' : 'none';\n",
       "\n",
       "      async function convertToInteractive(key) {\n",
       "        const element = document.querySelector('#df-4bc719c9-eae1-4dad-93c0-324adb2dac81');\n",
       "        const dataTable =\n",
       "          await google.colab.kernel.invokeFunction('convertToInteractive',\n",
       "                                                    [key], {});\n",
       "        if (!dataTable) return;\n",
       "\n",
       "        const docLinkHtml = 'Like what you see? Visit the ' +\n",
       "          '<a target=\"_blank\" href=https://colab.research.google.com/notebooks/data_table.ipynb>data table notebook</a>'\n",
       "          + ' to learn more about interactive tables.';\n",
       "        element.innerHTML = '';\n",
       "        dataTable['output_type'] = 'display_data';\n",
       "        await google.colab.output.renderOutput(dataTable, element);\n",
       "        const docLink = document.createElement('div');\n",
       "        docLink.innerHTML = docLinkHtml;\n",
       "        element.appendChild(docLink);\n",
       "      }\n",
       "    </script>\n",
       "  </div>\n",
       "\n",
       "\n",
       "<div id=\"df-10e46d38-3ab5-4446-b749-2731d4e325a3\">\n",
       "  <button class=\"colab-df-quickchart\" onclick=\"quickchart('df-10e46d38-3ab5-4446-b749-2731d4e325a3')\"\n",
       "            title=\"Suggest charts\"\n",
       "            style=\"display:none;\">\n",
       "\n",
       "<svg xmlns=\"http://www.w3.org/2000/svg\" height=\"24px\"viewBox=\"0 0 24 24\"\n",
       "     width=\"24px\">\n",
       "    <g>\n",
       "        <path d=\"M19 3H5c-1.1 0-2 .9-2 2v14c0 1.1.9 2 2 2h14c1.1 0 2-.9 2-2V5c0-1.1-.9-2-2-2zM9 17H7v-7h2v7zm4 0h-2V7h2v10zm4 0h-2v-4h2v4z\"/>\n",
       "    </g>\n",
       "</svg>\n",
       "  </button>\n",
       "\n",
       "<style>\n",
       "  .colab-df-quickchart {\n",
       "      --bg-color: #E8F0FE;\n",
       "      --fill-color: #1967D2;\n",
       "      --hover-bg-color: #E2EBFA;\n",
       "      --hover-fill-color: #174EA6;\n",
       "      --disabled-fill-color: #AAA;\n",
       "      --disabled-bg-color: #DDD;\n",
       "  }\n",
       "\n",
       "  [theme=dark] .colab-df-quickchart {\n",
       "      --bg-color: #3B4455;\n",
       "      --fill-color: #D2E3FC;\n",
       "      --hover-bg-color: #434B5C;\n",
       "      --hover-fill-color: #FFFFFF;\n",
       "      --disabled-bg-color: #3B4455;\n",
       "      --disabled-fill-color: #666;\n",
       "  }\n",
       "\n",
       "  .colab-df-quickchart {\n",
       "    background-color: var(--bg-color);\n",
       "    border: none;\n",
       "    border-radius: 50%;\n",
       "    cursor: pointer;\n",
       "    display: none;\n",
       "    fill: var(--fill-color);\n",
       "    height: 32px;\n",
       "    padding: 0;\n",
       "    width: 32px;\n",
       "  }\n",
       "\n",
       "  .colab-df-quickchart:hover {\n",
       "    background-color: var(--hover-bg-color);\n",
       "    box-shadow: 0 1px 2px rgba(60, 64, 67, 0.3), 0 1px 3px 1px rgba(60, 64, 67, 0.15);\n",
       "    fill: var(--button-hover-fill-color);\n",
       "  }\n",
       "\n",
       "  .colab-df-quickchart-complete:disabled,\n",
       "  .colab-df-quickchart-complete:disabled:hover {\n",
       "    background-color: var(--disabled-bg-color);\n",
       "    fill: var(--disabled-fill-color);\n",
       "    box-shadow: none;\n",
       "  }\n",
       "\n",
       "  .colab-df-spinner {\n",
       "    border: 2px solid var(--fill-color);\n",
       "    border-color: transparent;\n",
       "    border-bottom-color: var(--fill-color);\n",
       "    animation:\n",
       "      spin 1s steps(1) infinite;\n",
       "  }\n",
       "\n",
       "  @keyframes spin {\n",
       "    0% {\n",
       "      border-color: transparent;\n",
       "      border-bottom-color: var(--fill-color);\n",
       "      border-left-color: var(--fill-color);\n",
       "    }\n",
       "    20% {\n",
       "      border-color: transparent;\n",
       "      border-left-color: var(--fill-color);\n",
       "      border-top-color: var(--fill-color);\n",
       "    }\n",
       "    30% {\n",
       "      border-color: transparent;\n",
       "      border-left-color: var(--fill-color);\n",
       "      border-top-color: var(--fill-color);\n",
       "      border-right-color: var(--fill-color);\n",
       "    }\n",
       "    40% {\n",
       "      border-color: transparent;\n",
       "      border-right-color: var(--fill-color);\n",
       "      border-top-color: var(--fill-color);\n",
       "    }\n",
       "    60% {\n",
       "      border-color: transparent;\n",
       "      border-right-color: var(--fill-color);\n",
       "    }\n",
       "    80% {\n",
       "      border-color: transparent;\n",
       "      border-right-color: var(--fill-color);\n",
       "      border-bottom-color: var(--fill-color);\n",
       "    }\n",
       "    90% {\n",
       "      border-color: transparent;\n",
       "      border-bottom-color: var(--fill-color);\n",
       "    }\n",
       "  }\n",
       "</style>\n",
       "\n",
       "  <script>\n",
       "    async function quickchart(key) {\n",
       "      const quickchartButtonEl =\n",
       "        document.querySelector('#' + key + ' button');\n",
       "      quickchartButtonEl.disabled = true;  // To prevent multiple clicks.\n",
       "      quickchartButtonEl.classList.add('colab-df-spinner');\n",
       "      try {\n",
       "        const charts = await google.colab.kernel.invokeFunction(\n",
       "            'suggestCharts', [key], {});\n",
       "      } catch (error) {\n",
       "        console.error('Error during call to suggestCharts:', error);\n",
       "      }\n",
       "      quickchartButtonEl.classList.remove('colab-df-spinner');\n",
       "      quickchartButtonEl.classList.add('colab-df-quickchart-complete');\n",
       "    }\n",
       "    (() => {\n",
       "      let quickchartButtonEl =\n",
       "        document.querySelector('#df-10e46d38-3ab5-4446-b749-2731d4e325a3 button');\n",
       "      quickchartButtonEl.style.display =\n",
       "        google.colab.kernel.accessAllowed ? 'block' : 'none';\n",
       "    })();\n",
       "  </script>\n",
       "</div>\n",
       "\n",
       "    </div>\n",
       "  </div>\n"
      ],
      "text/plain": [
       "  actual  prediction\n",
       "0  ndecc  nnddeecccc\n",
       "1  gecmf  ggeeccmmff\n",
       "2  325fb  332255ffbb\n",
       "3  6f857  66ff885577\n",
       "4  87nym  8877nnyymm"
      ]
     },
     "execution_count": 44,
     "metadata": {},
     "output_type": "execute_result"
    }
   ],
   "source": [
    "print(results_train.shape)\n",
    "results_train.head()"
   ]
  },
  {
   "cell_type": "code",
   "execution_count": 45,
   "metadata": {
    "colab": {
     "base_uri": "https://localhost:8080/",
     "height": 223
    },
    "id": "LgpNipt0v_Wu",
    "outputId": "171c250d-d2a5-4928-9f56-b8e88828647e"
   },
   "outputs": [
    {
     "name": "stdout",
     "output_type": "stream",
     "text": [
      "(270, 2)\n"
     ]
    },
    {
     "data": {
      "application/vnd.google.colaboratory.intrinsic+json": {
       "summary": "{\n  \"name\": \"results_test\",\n  \"rows\": 270,\n  \"fields\": [\n    {\n      \"column\": \"actual\",\n      \"properties\": {\n        \"dtype\": \"string\",\n        \"num_unique_values\": 270,\n        \"samples\": [\n          \"77387\",\n          \"2wc38\",\n          \"e8dxn\"\n        ],\n        \"semantic_type\": \"\",\n        \"description\": \"\"\n      }\n    },\n    {\n      \"column\": \"prediction\",\n      \"properties\": {\n        \"dtype\": \"string\",\n        \"num_unique_values\": 270,\n        \"samples\": [\n          \"7777788877\",\n          \"22wwcc3388\",\n          \"ee88ddxxnn\"\n        ],\n        \"semantic_type\": \"\",\n        \"description\": \"\"\n      }\n    }\n  ]\n}",
       "type": "dataframe",
       "variable_name": "results_test"
      },
      "text/html": [
       "\n",
       "  <div id=\"df-3bfc94a6-94ab-4b5c-ab46-af46a438fcaf\" class=\"colab-df-container\">\n",
       "    <div>\n",
       "<style scoped>\n",
       "    .dataframe tbody tr th:only-of-type {\n",
       "        vertical-align: middle;\n",
       "    }\n",
       "\n",
       "    .dataframe tbody tr th {\n",
       "        vertical-align: top;\n",
       "    }\n",
       "\n",
       "    .dataframe thead th {\n",
       "        text-align: right;\n",
       "    }\n",
       "</style>\n",
       "<table border=\"1\" class=\"dataframe\">\n",
       "  <thead>\n",
       "    <tr style=\"text-align: right;\">\n",
       "      <th></th>\n",
       "      <th>actual</th>\n",
       "      <th>prediction</th>\n",
       "    </tr>\n",
       "  </thead>\n",
       "  <tbody>\n",
       "    <tr>\n",
       "      <th>0</th>\n",
       "      <td>x362g</td>\n",
       "      <td>xx336622gg</td>\n",
       "    </tr>\n",
       "    <tr>\n",
       "      <th>1</th>\n",
       "      <td>xemyg</td>\n",
       "      <td>xxeemmyygg</td>\n",
       "    </tr>\n",
       "    <tr>\n",
       "      <th>2</th>\n",
       "      <td>mye68</td>\n",
       "      <td>mmyyee6688</td>\n",
       "    </tr>\n",
       "    <tr>\n",
       "      <th>3</th>\n",
       "      <td>fbp2c</td>\n",
       "      <td>ffbbpp22cc</td>\n",
       "    </tr>\n",
       "    <tr>\n",
       "      <th>4</th>\n",
       "      <td>mggce</td>\n",
       "      <td>mmggggccee</td>\n",
       "    </tr>\n",
       "  </tbody>\n",
       "</table>\n",
       "</div>\n",
       "    <div class=\"colab-df-buttons\">\n",
       "\n",
       "  <div class=\"colab-df-container\">\n",
       "    <button class=\"colab-df-convert\" onclick=\"convertToInteractive('df-3bfc94a6-94ab-4b5c-ab46-af46a438fcaf')\"\n",
       "            title=\"Convert this dataframe to an interactive table.\"\n",
       "            style=\"display:none;\">\n",
       "\n",
       "  <svg xmlns=\"http://www.w3.org/2000/svg\" height=\"24px\" viewBox=\"0 -960 960 960\">\n",
       "    <path d=\"M120-120v-720h720v720H120Zm60-500h600v-160H180v160Zm220 220h160v-160H400v160Zm0 220h160v-160H400v160ZM180-400h160v-160H180v160Zm440 0h160v-160H620v160ZM180-180h160v-160H180v160Zm440 0h160v-160H620v160Z\"/>\n",
       "  </svg>\n",
       "    </button>\n",
       "\n",
       "  <style>\n",
       "    .colab-df-container {\n",
       "      display:flex;\n",
       "      gap: 12px;\n",
       "    }\n",
       "\n",
       "    .colab-df-convert {\n",
       "      background-color: #E8F0FE;\n",
       "      border: none;\n",
       "      border-radius: 50%;\n",
       "      cursor: pointer;\n",
       "      display: none;\n",
       "      fill: #1967D2;\n",
       "      height: 32px;\n",
       "      padding: 0 0 0 0;\n",
       "      width: 32px;\n",
       "    }\n",
       "\n",
       "    .colab-df-convert:hover {\n",
       "      background-color: #E2EBFA;\n",
       "      box-shadow: 0px 1px 2px rgba(60, 64, 67, 0.3), 0px 1px 3px 1px rgba(60, 64, 67, 0.15);\n",
       "      fill: #174EA6;\n",
       "    }\n",
       "\n",
       "    .colab-df-buttons div {\n",
       "      margin-bottom: 4px;\n",
       "    }\n",
       "\n",
       "    [theme=dark] .colab-df-convert {\n",
       "      background-color: #3B4455;\n",
       "      fill: #D2E3FC;\n",
       "    }\n",
       "\n",
       "    [theme=dark] .colab-df-convert:hover {\n",
       "      background-color: #434B5C;\n",
       "      box-shadow: 0px 1px 3px 1px rgba(0, 0, 0, 0.15);\n",
       "      filter: drop-shadow(0px 1px 2px rgba(0, 0, 0, 0.3));\n",
       "      fill: #FFFFFF;\n",
       "    }\n",
       "  </style>\n",
       "\n",
       "    <script>\n",
       "      const buttonEl =\n",
       "        document.querySelector('#df-3bfc94a6-94ab-4b5c-ab46-af46a438fcaf button.colab-df-convert');\n",
       "      buttonEl.style.display =\n",
       "        google.colab.kernel.accessAllowed ? 'block' : 'none';\n",
       "\n",
       "      async function convertToInteractive(key) {\n",
       "        const element = document.querySelector('#df-3bfc94a6-94ab-4b5c-ab46-af46a438fcaf');\n",
       "        const dataTable =\n",
       "          await google.colab.kernel.invokeFunction('convertToInteractive',\n",
       "                                                    [key], {});\n",
       "        if (!dataTable) return;\n",
       "\n",
       "        const docLinkHtml = 'Like what you see? Visit the ' +\n",
       "          '<a target=\"_blank\" href=https://colab.research.google.com/notebooks/data_table.ipynb>data table notebook</a>'\n",
       "          + ' to learn more about interactive tables.';\n",
       "        element.innerHTML = '';\n",
       "        dataTable['output_type'] = 'display_data';\n",
       "        await google.colab.output.renderOutput(dataTable, element);\n",
       "        const docLink = document.createElement('div');\n",
       "        docLink.innerHTML = docLinkHtml;\n",
       "        element.appendChild(docLink);\n",
       "      }\n",
       "    </script>\n",
       "  </div>\n",
       "\n",
       "\n",
       "<div id=\"df-ae73fbca-c892-4a62-91f7-faf5655ffb7d\">\n",
       "  <button class=\"colab-df-quickchart\" onclick=\"quickchart('df-ae73fbca-c892-4a62-91f7-faf5655ffb7d')\"\n",
       "            title=\"Suggest charts\"\n",
       "            style=\"display:none;\">\n",
       "\n",
       "<svg xmlns=\"http://www.w3.org/2000/svg\" height=\"24px\"viewBox=\"0 0 24 24\"\n",
       "     width=\"24px\">\n",
       "    <g>\n",
       "        <path d=\"M19 3H5c-1.1 0-2 .9-2 2v14c0 1.1.9 2 2 2h14c1.1 0 2-.9 2-2V5c0-1.1-.9-2-2-2zM9 17H7v-7h2v7zm4 0h-2V7h2v10zm4 0h-2v-4h2v4z\"/>\n",
       "    </g>\n",
       "</svg>\n",
       "  </button>\n",
       "\n",
       "<style>\n",
       "  .colab-df-quickchart {\n",
       "      --bg-color: #E8F0FE;\n",
       "      --fill-color: #1967D2;\n",
       "      --hover-bg-color: #E2EBFA;\n",
       "      --hover-fill-color: #174EA6;\n",
       "      --disabled-fill-color: #AAA;\n",
       "      --disabled-bg-color: #DDD;\n",
       "  }\n",
       "\n",
       "  [theme=dark] .colab-df-quickchart {\n",
       "      --bg-color: #3B4455;\n",
       "      --fill-color: #D2E3FC;\n",
       "      --hover-bg-color: #434B5C;\n",
       "      --hover-fill-color: #FFFFFF;\n",
       "      --disabled-bg-color: #3B4455;\n",
       "      --disabled-fill-color: #666;\n",
       "  }\n",
       "\n",
       "  .colab-df-quickchart {\n",
       "    background-color: var(--bg-color);\n",
       "    border: none;\n",
       "    border-radius: 50%;\n",
       "    cursor: pointer;\n",
       "    display: none;\n",
       "    fill: var(--fill-color);\n",
       "    height: 32px;\n",
       "    padding: 0;\n",
       "    width: 32px;\n",
       "  }\n",
       "\n",
       "  .colab-df-quickchart:hover {\n",
       "    background-color: var(--hover-bg-color);\n",
       "    box-shadow: 0 1px 2px rgba(60, 64, 67, 0.3), 0 1px 3px 1px rgba(60, 64, 67, 0.15);\n",
       "    fill: var(--button-hover-fill-color);\n",
       "  }\n",
       "\n",
       "  .colab-df-quickchart-complete:disabled,\n",
       "  .colab-df-quickchart-complete:disabled:hover {\n",
       "    background-color: var(--disabled-bg-color);\n",
       "    fill: var(--disabled-fill-color);\n",
       "    box-shadow: none;\n",
       "  }\n",
       "\n",
       "  .colab-df-spinner {\n",
       "    border: 2px solid var(--fill-color);\n",
       "    border-color: transparent;\n",
       "    border-bottom-color: var(--fill-color);\n",
       "    animation:\n",
       "      spin 1s steps(1) infinite;\n",
       "  }\n",
       "\n",
       "  @keyframes spin {\n",
       "    0% {\n",
       "      border-color: transparent;\n",
       "      border-bottom-color: var(--fill-color);\n",
       "      border-left-color: var(--fill-color);\n",
       "    }\n",
       "    20% {\n",
       "      border-color: transparent;\n",
       "      border-left-color: var(--fill-color);\n",
       "      border-top-color: var(--fill-color);\n",
       "    }\n",
       "    30% {\n",
       "      border-color: transparent;\n",
       "      border-left-color: var(--fill-color);\n",
       "      border-top-color: var(--fill-color);\n",
       "      border-right-color: var(--fill-color);\n",
       "    }\n",
       "    40% {\n",
       "      border-color: transparent;\n",
       "      border-right-color: var(--fill-color);\n",
       "      border-top-color: var(--fill-color);\n",
       "    }\n",
       "    60% {\n",
       "      border-color: transparent;\n",
       "      border-right-color: var(--fill-color);\n",
       "    }\n",
       "    80% {\n",
       "      border-color: transparent;\n",
       "      border-right-color: var(--fill-color);\n",
       "      border-bottom-color: var(--fill-color);\n",
       "    }\n",
       "    90% {\n",
       "      border-color: transparent;\n",
       "      border-bottom-color: var(--fill-color);\n",
       "    }\n",
       "  }\n",
       "</style>\n",
       "\n",
       "  <script>\n",
       "    async function quickchart(key) {\n",
       "      const quickchartButtonEl =\n",
       "        document.querySelector('#' + key + ' button');\n",
       "      quickchartButtonEl.disabled = true;  // To prevent multiple clicks.\n",
       "      quickchartButtonEl.classList.add('colab-df-spinner');\n",
       "      try {\n",
       "        const charts = await google.colab.kernel.invokeFunction(\n",
       "            'suggestCharts', [key], {});\n",
       "      } catch (error) {\n",
       "        console.error('Error during call to suggestCharts:', error);\n",
       "      }\n",
       "      quickchartButtonEl.classList.remove('colab-df-spinner');\n",
       "      quickchartButtonEl.classList.add('colab-df-quickchart-complete');\n",
       "    }\n",
       "    (() => {\n",
       "      let quickchartButtonEl =\n",
       "        document.querySelector('#df-ae73fbca-c892-4a62-91f7-faf5655ffb7d button');\n",
       "      quickchartButtonEl.style.display =\n",
       "        google.colab.kernel.accessAllowed ? 'block' : 'none';\n",
       "    })();\n",
       "  </script>\n",
       "</div>\n",
       "\n",
       "    </div>\n",
       "  </div>\n"
      ],
      "text/plain": [
       "  actual  prediction\n",
       "0  x362g  xx336622gg\n",
       "1  xemyg  xxeemmyygg\n",
       "2  mye68  mmyyee6688\n",
       "3  fbp2c  ffbbpp22cc\n",
       "4  mggce  mmggggccee"
      ]
     },
     "execution_count": 45,
     "metadata": {},
     "output_type": "execute_result"
    }
   ],
   "source": [
    "\n",
    "print(results_test.shape)\n",
    "results_test.head()"
   ]
  },
  {
   "cell_type": "code",
   "execution_count": 46,
   "metadata": {
    "id": "xQlYMu3iwDqQ"
   },
   "outputs": [],
   "source": [
    "\n",
    "def remove_duplicates(text):\n",
    "    if len(text) > 1:\n",
    "        letters = [text[0]] + [letter for idx, letter in enumerate(text[1:], start=1) if text[idx] != text[idx-1]]\n",
    "    elif len(text) == 1:\n",
    "        letters = [text[0]]\n",
    "    else:\n",
    "        return \"\"\n",
    "    return \"\".join(letters)\n",
    "\n",
    "def correct_prediction(word):\n",
    "    parts = word.split(\"-\")\n",
    "    parts = [remove_duplicates(part) for part in parts]\n",
    "    corrected_word = \"\".join(parts)\n",
    "    return corrected_word"
   ]
  },
  {
   "cell_type": "code",
   "execution_count": 47,
   "metadata": {
    "colab": {
     "base_uri": "https://localhost:8080/",
     "height": 206
    },
    "id": "POFluiWJwGBB",
    "outputId": "d22c8218-674d-4fd2-f248-30e33216f19a"
   },
   "outputs": [
    {
     "data": {
      "application/vnd.google.colaboratory.intrinsic+json": {
       "summary": "{\n  \"name\": \"results_train\",\n  \"rows\": 810,\n  \"fields\": [\n    {\n      \"column\": \"actual\",\n      \"properties\": {\n        \"dtype\": \"string\",\n        \"num_unique_values\": 810,\n        \"samples\": [\n          \"b5pnn\",\n          \"nm46n\",\n          \"gmmne\"\n        ],\n        \"semantic_type\": \"\",\n        \"description\": \"\"\n      }\n    },\n    {\n      \"column\": \"prediction\",\n      \"properties\": {\n        \"dtype\": \"string\",\n        \"num_unique_values\": 805,\n        \"samples\": [\n          \"nnxxxxff88\",\n          \"66ee66ppnn\",\n          \"ccwwggyyxx\"\n        ],\n        \"semantic_type\": \"\",\n        \"description\": \"\"\n      }\n    },\n    {\n      \"column\": \"prediction_corrected\",\n      \"properties\": {\n        \"dtype\": \"string\",\n        \"num_unique_values\": 804,\n        \"samples\": [\n          \"nxf8\",\n          \"6e6pn\",\n          \"cwgyx\"\n        ],\n        \"semantic_type\": \"\",\n        \"description\": \"\"\n      }\n    }\n  ]\n}",
       "type": "dataframe",
       "variable_name": "results_train"
      },
      "text/html": [
       "\n",
       "  <div id=\"df-b8081b80-8d2a-46a5-95b2-4cb0ef16f017\" class=\"colab-df-container\">\n",
       "    <div>\n",
       "<style scoped>\n",
       "    .dataframe tbody tr th:only-of-type {\n",
       "        vertical-align: middle;\n",
       "    }\n",
       "\n",
       "    .dataframe tbody tr th {\n",
       "        vertical-align: top;\n",
       "    }\n",
       "\n",
       "    .dataframe thead th {\n",
       "        text-align: right;\n",
       "    }\n",
       "</style>\n",
       "<table border=\"1\" class=\"dataframe\">\n",
       "  <thead>\n",
       "    <tr style=\"text-align: right;\">\n",
       "      <th></th>\n",
       "      <th>actual</th>\n",
       "      <th>prediction</th>\n",
       "      <th>prediction_corrected</th>\n",
       "    </tr>\n",
       "  </thead>\n",
       "  <tbody>\n",
       "    <tr>\n",
       "      <th>0</th>\n",
       "      <td>ndecc</td>\n",
       "      <td>nnddeecccc</td>\n",
       "      <td>ndec</td>\n",
       "    </tr>\n",
       "    <tr>\n",
       "      <th>1</th>\n",
       "      <td>gecmf</td>\n",
       "      <td>ggeeccmmff</td>\n",
       "      <td>gecmf</td>\n",
       "    </tr>\n",
       "    <tr>\n",
       "      <th>2</th>\n",
       "      <td>325fb</td>\n",
       "      <td>332255ffbb</td>\n",
       "      <td>325fb</td>\n",
       "    </tr>\n",
       "    <tr>\n",
       "      <th>3</th>\n",
       "      <td>6f857</td>\n",
       "      <td>66ff885577</td>\n",
       "      <td>6f857</td>\n",
       "    </tr>\n",
       "    <tr>\n",
       "      <th>4</th>\n",
       "      <td>87nym</td>\n",
       "      <td>8877nnyymm</td>\n",
       "      <td>87nym</td>\n",
       "    </tr>\n",
       "  </tbody>\n",
       "</table>\n",
       "</div>\n",
       "    <div class=\"colab-df-buttons\">\n",
       "\n",
       "  <div class=\"colab-df-container\">\n",
       "    <button class=\"colab-df-convert\" onclick=\"convertToInteractive('df-b8081b80-8d2a-46a5-95b2-4cb0ef16f017')\"\n",
       "            title=\"Convert this dataframe to an interactive table.\"\n",
       "            style=\"display:none;\">\n",
       "\n",
       "  <svg xmlns=\"http://www.w3.org/2000/svg\" height=\"24px\" viewBox=\"0 -960 960 960\">\n",
       "    <path d=\"M120-120v-720h720v720H120Zm60-500h600v-160H180v160Zm220 220h160v-160H400v160Zm0 220h160v-160H400v160ZM180-400h160v-160H180v160Zm440 0h160v-160H620v160ZM180-180h160v-160H180v160Zm440 0h160v-160H620v160Z\"/>\n",
       "  </svg>\n",
       "    </button>\n",
       "\n",
       "  <style>\n",
       "    .colab-df-container {\n",
       "      display:flex;\n",
       "      gap: 12px;\n",
       "    }\n",
       "\n",
       "    .colab-df-convert {\n",
       "      background-color: #E8F0FE;\n",
       "      border: none;\n",
       "      border-radius: 50%;\n",
       "      cursor: pointer;\n",
       "      display: none;\n",
       "      fill: #1967D2;\n",
       "      height: 32px;\n",
       "      padding: 0 0 0 0;\n",
       "      width: 32px;\n",
       "    }\n",
       "\n",
       "    .colab-df-convert:hover {\n",
       "      background-color: #E2EBFA;\n",
       "      box-shadow: 0px 1px 2px rgba(60, 64, 67, 0.3), 0px 1px 3px 1px rgba(60, 64, 67, 0.15);\n",
       "      fill: #174EA6;\n",
       "    }\n",
       "\n",
       "    .colab-df-buttons div {\n",
       "      margin-bottom: 4px;\n",
       "    }\n",
       "\n",
       "    [theme=dark] .colab-df-convert {\n",
       "      background-color: #3B4455;\n",
       "      fill: #D2E3FC;\n",
       "    }\n",
       "\n",
       "    [theme=dark] .colab-df-convert:hover {\n",
       "      background-color: #434B5C;\n",
       "      box-shadow: 0px 1px 3px 1px rgba(0, 0, 0, 0.15);\n",
       "      filter: drop-shadow(0px 1px 2px rgba(0, 0, 0, 0.3));\n",
       "      fill: #FFFFFF;\n",
       "    }\n",
       "  </style>\n",
       "\n",
       "    <script>\n",
       "      const buttonEl =\n",
       "        document.querySelector('#df-b8081b80-8d2a-46a5-95b2-4cb0ef16f017 button.colab-df-convert');\n",
       "      buttonEl.style.display =\n",
       "        google.colab.kernel.accessAllowed ? 'block' : 'none';\n",
       "\n",
       "      async function convertToInteractive(key) {\n",
       "        const element = document.querySelector('#df-b8081b80-8d2a-46a5-95b2-4cb0ef16f017');\n",
       "        const dataTable =\n",
       "          await google.colab.kernel.invokeFunction('convertToInteractive',\n",
       "                                                    [key], {});\n",
       "        if (!dataTable) return;\n",
       "\n",
       "        const docLinkHtml = 'Like what you see? Visit the ' +\n",
       "          '<a target=\"_blank\" href=https://colab.research.google.com/notebooks/data_table.ipynb>data table notebook</a>'\n",
       "          + ' to learn more about interactive tables.';\n",
       "        element.innerHTML = '';\n",
       "        dataTable['output_type'] = 'display_data';\n",
       "        await google.colab.output.renderOutput(dataTable, element);\n",
       "        const docLink = document.createElement('div');\n",
       "        docLink.innerHTML = docLinkHtml;\n",
       "        element.appendChild(docLink);\n",
       "      }\n",
       "    </script>\n",
       "  </div>\n",
       "\n",
       "\n",
       "<div id=\"df-74c644df-396d-4016-96dc-784df3733408\">\n",
       "  <button class=\"colab-df-quickchart\" onclick=\"quickchart('df-74c644df-396d-4016-96dc-784df3733408')\"\n",
       "            title=\"Suggest charts\"\n",
       "            style=\"display:none;\">\n",
       "\n",
       "<svg xmlns=\"http://www.w3.org/2000/svg\" height=\"24px\"viewBox=\"0 0 24 24\"\n",
       "     width=\"24px\">\n",
       "    <g>\n",
       "        <path d=\"M19 3H5c-1.1 0-2 .9-2 2v14c0 1.1.9 2 2 2h14c1.1 0 2-.9 2-2V5c0-1.1-.9-2-2-2zM9 17H7v-7h2v7zm4 0h-2V7h2v10zm4 0h-2v-4h2v4z\"/>\n",
       "    </g>\n",
       "</svg>\n",
       "  </button>\n",
       "\n",
       "<style>\n",
       "  .colab-df-quickchart {\n",
       "      --bg-color: #E8F0FE;\n",
       "      --fill-color: #1967D2;\n",
       "      --hover-bg-color: #E2EBFA;\n",
       "      --hover-fill-color: #174EA6;\n",
       "      --disabled-fill-color: #AAA;\n",
       "      --disabled-bg-color: #DDD;\n",
       "  }\n",
       "\n",
       "  [theme=dark] .colab-df-quickchart {\n",
       "      --bg-color: #3B4455;\n",
       "      --fill-color: #D2E3FC;\n",
       "      --hover-bg-color: #434B5C;\n",
       "      --hover-fill-color: #FFFFFF;\n",
       "      --disabled-bg-color: #3B4455;\n",
       "      --disabled-fill-color: #666;\n",
       "  }\n",
       "\n",
       "  .colab-df-quickchart {\n",
       "    background-color: var(--bg-color);\n",
       "    border: none;\n",
       "    border-radius: 50%;\n",
       "    cursor: pointer;\n",
       "    display: none;\n",
       "    fill: var(--fill-color);\n",
       "    height: 32px;\n",
       "    padding: 0;\n",
       "    width: 32px;\n",
       "  }\n",
       "\n",
       "  .colab-df-quickchart:hover {\n",
       "    background-color: var(--hover-bg-color);\n",
       "    box-shadow: 0 1px 2px rgba(60, 64, 67, 0.3), 0 1px 3px 1px rgba(60, 64, 67, 0.15);\n",
       "    fill: var(--button-hover-fill-color);\n",
       "  }\n",
       "\n",
       "  .colab-df-quickchart-complete:disabled,\n",
       "  .colab-df-quickchart-complete:disabled:hover {\n",
       "    background-color: var(--disabled-bg-color);\n",
       "    fill: var(--disabled-fill-color);\n",
       "    box-shadow: none;\n",
       "  }\n",
       "\n",
       "  .colab-df-spinner {\n",
       "    border: 2px solid var(--fill-color);\n",
       "    border-color: transparent;\n",
       "    border-bottom-color: var(--fill-color);\n",
       "    animation:\n",
       "      spin 1s steps(1) infinite;\n",
       "  }\n",
       "\n",
       "  @keyframes spin {\n",
       "    0% {\n",
       "      border-color: transparent;\n",
       "      border-bottom-color: var(--fill-color);\n",
       "      border-left-color: var(--fill-color);\n",
       "    }\n",
       "    20% {\n",
       "      border-color: transparent;\n",
       "      border-left-color: var(--fill-color);\n",
       "      border-top-color: var(--fill-color);\n",
       "    }\n",
       "    30% {\n",
       "      border-color: transparent;\n",
       "      border-left-color: var(--fill-color);\n",
       "      border-top-color: var(--fill-color);\n",
       "      border-right-color: var(--fill-color);\n",
       "    }\n",
       "    40% {\n",
       "      border-color: transparent;\n",
       "      border-right-color: var(--fill-color);\n",
       "      border-top-color: var(--fill-color);\n",
       "    }\n",
       "    60% {\n",
       "      border-color: transparent;\n",
       "      border-right-color: var(--fill-color);\n",
       "    }\n",
       "    80% {\n",
       "      border-color: transparent;\n",
       "      border-right-color: var(--fill-color);\n",
       "      border-bottom-color: var(--fill-color);\n",
       "    }\n",
       "    90% {\n",
       "      border-color: transparent;\n",
       "      border-bottom-color: var(--fill-color);\n",
       "    }\n",
       "  }\n",
       "</style>\n",
       "\n",
       "  <script>\n",
       "    async function quickchart(key) {\n",
       "      const quickchartButtonEl =\n",
       "        document.querySelector('#' + key + ' button');\n",
       "      quickchartButtonEl.disabled = true;  // To prevent multiple clicks.\n",
       "      quickchartButtonEl.classList.add('colab-df-spinner');\n",
       "      try {\n",
       "        const charts = await google.colab.kernel.invokeFunction(\n",
       "            'suggestCharts', [key], {});\n",
       "      } catch (error) {\n",
       "        console.error('Error during call to suggestCharts:', error);\n",
       "      }\n",
       "      quickchartButtonEl.classList.remove('colab-df-spinner');\n",
       "      quickchartButtonEl.classList.add('colab-df-quickchart-complete');\n",
       "    }\n",
       "    (() => {\n",
       "      let quickchartButtonEl =\n",
       "        document.querySelector('#df-74c644df-396d-4016-96dc-784df3733408 button');\n",
       "      quickchartButtonEl.style.display =\n",
       "        google.colab.kernel.accessAllowed ? 'block' : 'none';\n",
       "    })();\n",
       "  </script>\n",
       "</div>\n",
       "\n",
       "    </div>\n",
       "  </div>\n"
      ],
      "text/plain": [
       "  actual  prediction prediction_corrected\n",
       "0  ndecc  nnddeecccc                 ndec\n",
       "1  gecmf  ggeeccmmff                gecmf\n",
       "2  325fb  332255ffbb                325fb\n",
       "3  6f857  66ff885577                6f857\n",
       "4  87nym  8877nnyymm                87nym"
      ]
     },
     "execution_count": 47,
     "metadata": {},
     "output_type": "execute_result"
    }
   ],
   "source": [
    "\n",
    "results_train['prediction_corrected'] = results_train['prediction'].apply(correct_prediction)\n",
    "results_train.head()"
   ]
  },
  {
   "cell_type": "code",
   "execution_count": 48,
   "metadata": {
    "colab": {
     "base_uri": "https://localhost:8080/",
     "height": 206
    },
    "id": "O_b27LGtwMMg",
    "outputId": "e5e94728-0659-4aad-e3d4-5da093ec567e"
   },
   "outputs": [
    {
     "data": {
      "application/vnd.google.colaboratory.intrinsic+json": {
       "summary": "{\n  \"name\": \"results_test\",\n  \"rows\": 270,\n  \"fields\": [\n    {\n      \"column\": \"actual\",\n      \"properties\": {\n        \"dtype\": \"string\",\n        \"num_unique_values\": 270,\n        \"samples\": [\n          \"77387\",\n          \"2wc38\",\n          \"e8dxn\"\n        ],\n        \"semantic_type\": \"\",\n        \"description\": \"\"\n      }\n    },\n    {\n      \"column\": \"prediction\",\n      \"properties\": {\n        \"dtype\": \"string\",\n        \"num_unique_values\": 270,\n        \"samples\": [\n          \"7777788877\",\n          \"22wwcc3388\",\n          \"ee88ddxxnn\"\n        ],\n        \"semantic_type\": \"\",\n        \"description\": \"\"\n      }\n    },\n    {\n      \"column\": \"prediction_corrected\",\n      \"properties\": {\n        \"dtype\": \"string\",\n        \"num_unique_values\": 270,\n        \"samples\": [\n          \"787\",\n          \"2wc38\",\n          \"e8dxn\"\n        ],\n        \"semantic_type\": \"\",\n        \"description\": \"\"\n      }\n    }\n  ]\n}",
       "type": "dataframe",
       "variable_name": "results_test"
      },
      "text/html": [
       "\n",
       "  <div id=\"df-dc5bdc2a-cbef-45de-85e9-2dc47380afe3\" class=\"colab-df-container\">\n",
       "    <div>\n",
       "<style scoped>\n",
       "    .dataframe tbody tr th:only-of-type {\n",
       "        vertical-align: middle;\n",
       "    }\n",
       "\n",
       "    .dataframe tbody tr th {\n",
       "        vertical-align: top;\n",
       "    }\n",
       "\n",
       "    .dataframe thead th {\n",
       "        text-align: right;\n",
       "    }\n",
       "</style>\n",
       "<table border=\"1\" class=\"dataframe\">\n",
       "  <thead>\n",
       "    <tr style=\"text-align: right;\">\n",
       "      <th></th>\n",
       "      <th>actual</th>\n",
       "      <th>prediction</th>\n",
       "      <th>prediction_corrected</th>\n",
       "    </tr>\n",
       "  </thead>\n",
       "  <tbody>\n",
       "    <tr>\n",
       "      <th>0</th>\n",
       "      <td>x362g</td>\n",
       "      <td>xx336622gg</td>\n",
       "      <td>x362g</td>\n",
       "    </tr>\n",
       "    <tr>\n",
       "      <th>1</th>\n",
       "      <td>xemyg</td>\n",
       "      <td>xxeemmyygg</td>\n",
       "      <td>xemyg</td>\n",
       "    </tr>\n",
       "    <tr>\n",
       "      <th>2</th>\n",
       "      <td>mye68</td>\n",
       "      <td>mmyyee6688</td>\n",
       "      <td>mye68</td>\n",
       "    </tr>\n",
       "    <tr>\n",
       "      <th>3</th>\n",
       "      <td>fbp2c</td>\n",
       "      <td>ffbbpp22cc</td>\n",
       "      <td>fbp2c</td>\n",
       "    </tr>\n",
       "    <tr>\n",
       "      <th>4</th>\n",
       "      <td>mggce</td>\n",
       "      <td>mmggggccee</td>\n",
       "      <td>mgce</td>\n",
       "    </tr>\n",
       "  </tbody>\n",
       "</table>\n",
       "</div>\n",
       "    <div class=\"colab-df-buttons\">\n",
       "\n",
       "  <div class=\"colab-df-container\">\n",
       "    <button class=\"colab-df-convert\" onclick=\"convertToInteractive('df-dc5bdc2a-cbef-45de-85e9-2dc47380afe3')\"\n",
       "            title=\"Convert this dataframe to an interactive table.\"\n",
       "            style=\"display:none;\">\n",
       "\n",
       "  <svg xmlns=\"http://www.w3.org/2000/svg\" height=\"24px\" viewBox=\"0 -960 960 960\">\n",
       "    <path d=\"M120-120v-720h720v720H120Zm60-500h600v-160H180v160Zm220 220h160v-160H400v160Zm0 220h160v-160H400v160ZM180-400h160v-160H180v160Zm440 0h160v-160H620v160ZM180-180h160v-160H180v160Zm440 0h160v-160H620v160Z\"/>\n",
       "  </svg>\n",
       "    </button>\n",
       "\n",
       "  <style>\n",
       "    .colab-df-container {\n",
       "      display:flex;\n",
       "      gap: 12px;\n",
       "    }\n",
       "\n",
       "    .colab-df-convert {\n",
       "      background-color: #E8F0FE;\n",
       "      border: none;\n",
       "      border-radius: 50%;\n",
       "      cursor: pointer;\n",
       "      display: none;\n",
       "      fill: #1967D2;\n",
       "      height: 32px;\n",
       "      padding: 0 0 0 0;\n",
       "      width: 32px;\n",
       "    }\n",
       "\n",
       "    .colab-df-convert:hover {\n",
       "      background-color: #E2EBFA;\n",
       "      box-shadow: 0px 1px 2px rgba(60, 64, 67, 0.3), 0px 1px 3px 1px rgba(60, 64, 67, 0.15);\n",
       "      fill: #174EA6;\n",
       "    }\n",
       "\n",
       "    .colab-df-buttons div {\n",
       "      margin-bottom: 4px;\n",
       "    }\n",
       "\n",
       "    [theme=dark] .colab-df-convert {\n",
       "      background-color: #3B4455;\n",
       "      fill: #D2E3FC;\n",
       "    }\n",
       "\n",
       "    [theme=dark] .colab-df-convert:hover {\n",
       "      background-color: #434B5C;\n",
       "      box-shadow: 0px 1px 3px 1px rgba(0, 0, 0, 0.15);\n",
       "      filter: drop-shadow(0px 1px 2px rgba(0, 0, 0, 0.3));\n",
       "      fill: #FFFFFF;\n",
       "    }\n",
       "  </style>\n",
       "\n",
       "    <script>\n",
       "      const buttonEl =\n",
       "        document.querySelector('#df-dc5bdc2a-cbef-45de-85e9-2dc47380afe3 button.colab-df-convert');\n",
       "      buttonEl.style.display =\n",
       "        google.colab.kernel.accessAllowed ? 'block' : 'none';\n",
       "\n",
       "      async function convertToInteractive(key) {\n",
       "        const element = document.querySelector('#df-dc5bdc2a-cbef-45de-85e9-2dc47380afe3');\n",
       "        const dataTable =\n",
       "          await google.colab.kernel.invokeFunction('convertToInteractive',\n",
       "                                                    [key], {});\n",
       "        if (!dataTable) return;\n",
       "\n",
       "        const docLinkHtml = 'Like what you see? Visit the ' +\n",
       "          '<a target=\"_blank\" href=https://colab.research.google.com/notebooks/data_table.ipynb>data table notebook</a>'\n",
       "          + ' to learn more about interactive tables.';\n",
       "        element.innerHTML = '';\n",
       "        dataTable['output_type'] = 'display_data';\n",
       "        await google.colab.output.renderOutput(dataTable, element);\n",
       "        const docLink = document.createElement('div');\n",
       "        docLink.innerHTML = docLinkHtml;\n",
       "        element.appendChild(docLink);\n",
       "      }\n",
       "    </script>\n",
       "  </div>\n",
       "\n",
       "\n",
       "<div id=\"df-9306e517-3772-41f1-9884-7e5f2bf5dcc7\">\n",
       "  <button class=\"colab-df-quickchart\" onclick=\"quickchart('df-9306e517-3772-41f1-9884-7e5f2bf5dcc7')\"\n",
       "            title=\"Suggest charts\"\n",
       "            style=\"display:none;\">\n",
       "\n",
       "<svg xmlns=\"http://www.w3.org/2000/svg\" height=\"24px\"viewBox=\"0 0 24 24\"\n",
       "     width=\"24px\">\n",
       "    <g>\n",
       "        <path d=\"M19 3H5c-1.1 0-2 .9-2 2v14c0 1.1.9 2 2 2h14c1.1 0 2-.9 2-2V5c0-1.1-.9-2-2-2zM9 17H7v-7h2v7zm4 0h-2V7h2v10zm4 0h-2v-4h2v4z\"/>\n",
       "    </g>\n",
       "</svg>\n",
       "  </button>\n",
       "\n",
       "<style>\n",
       "  .colab-df-quickchart {\n",
       "      --bg-color: #E8F0FE;\n",
       "      --fill-color: #1967D2;\n",
       "      --hover-bg-color: #E2EBFA;\n",
       "      --hover-fill-color: #174EA6;\n",
       "      --disabled-fill-color: #AAA;\n",
       "      --disabled-bg-color: #DDD;\n",
       "  }\n",
       "\n",
       "  [theme=dark] .colab-df-quickchart {\n",
       "      --bg-color: #3B4455;\n",
       "      --fill-color: #D2E3FC;\n",
       "      --hover-bg-color: #434B5C;\n",
       "      --hover-fill-color: #FFFFFF;\n",
       "      --disabled-bg-color: #3B4455;\n",
       "      --disabled-fill-color: #666;\n",
       "  }\n",
       "\n",
       "  .colab-df-quickchart {\n",
       "    background-color: var(--bg-color);\n",
       "    border: none;\n",
       "    border-radius: 50%;\n",
       "    cursor: pointer;\n",
       "    display: none;\n",
       "    fill: var(--fill-color);\n",
       "    height: 32px;\n",
       "    padding: 0;\n",
       "    width: 32px;\n",
       "  }\n",
       "\n",
       "  .colab-df-quickchart:hover {\n",
       "    background-color: var(--hover-bg-color);\n",
       "    box-shadow: 0 1px 2px rgba(60, 64, 67, 0.3), 0 1px 3px 1px rgba(60, 64, 67, 0.15);\n",
       "    fill: var(--button-hover-fill-color);\n",
       "  }\n",
       "\n",
       "  .colab-df-quickchart-complete:disabled,\n",
       "  .colab-df-quickchart-complete:disabled:hover {\n",
       "    background-color: var(--disabled-bg-color);\n",
       "    fill: var(--disabled-fill-color);\n",
       "    box-shadow: none;\n",
       "  }\n",
       "\n",
       "  .colab-df-spinner {\n",
       "    border: 2px solid var(--fill-color);\n",
       "    border-color: transparent;\n",
       "    border-bottom-color: var(--fill-color);\n",
       "    animation:\n",
       "      spin 1s steps(1) infinite;\n",
       "  }\n",
       "\n",
       "  @keyframes spin {\n",
       "    0% {\n",
       "      border-color: transparent;\n",
       "      border-bottom-color: var(--fill-color);\n",
       "      border-left-color: var(--fill-color);\n",
       "    }\n",
       "    20% {\n",
       "      border-color: transparent;\n",
       "      border-left-color: var(--fill-color);\n",
       "      border-top-color: var(--fill-color);\n",
       "    }\n",
       "    30% {\n",
       "      border-color: transparent;\n",
       "      border-left-color: var(--fill-color);\n",
       "      border-top-color: var(--fill-color);\n",
       "      border-right-color: var(--fill-color);\n",
       "    }\n",
       "    40% {\n",
       "      border-color: transparent;\n",
       "      border-right-color: var(--fill-color);\n",
       "      border-top-color: var(--fill-color);\n",
       "    }\n",
       "    60% {\n",
       "      border-color: transparent;\n",
       "      border-right-color: var(--fill-color);\n",
       "    }\n",
       "    80% {\n",
       "      border-color: transparent;\n",
       "      border-right-color: var(--fill-color);\n",
       "      border-bottom-color: var(--fill-color);\n",
       "    }\n",
       "    90% {\n",
       "      border-color: transparent;\n",
       "      border-bottom-color: var(--fill-color);\n",
       "    }\n",
       "  }\n",
       "</style>\n",
       "\n",
       "  <script>\n",
       "    async function quickchart(key) {\n",
       "      const quickchartButtonEl =\n",
       "        document.querySelector('#' + key + ' button');\n",
       "      quickchartButtonEl.disabled = true;  // To prevent multiple clicks.\n",
       "      quickchartButtonEl.classList.add('colab-df-spinner');\n",
       "      try {\n",
       "        const charts = await google.colab.kernel.invokeFunction(\n",
       "            'suggestCharts', [key], {});\n",
       "      } catch (error) {\n",
       "        console.error('Error during call to suggestCharts:', error);\n",
       "      }\n",
       "      quickchartButtonEl.classList.remove('colab-df-spinner');\n",
       "      quickchartButtonEl.classList.add('colab-df-quickchart-complete');\n",
       "    }\n",
       "    (() => {\n",
       "      let quickchartButtonEl =\n",
       "        document.querySelector('#df-9306e517-3772-41f1-9884-7e5f2bf5dcc7 button');\n",
       "      quickchartButtonEl.style.display =\n",
       "        google.colab.kernel.accessAllowed ? 'block' : 'none';\n",
       "    })();\n",
       "  </script>\n",
       "</div>\n",
       "\n",
       "    </div>\n",
       "  </div>\n"
      ],
      "text/plain": [
       "  actual  prediction prediction_corrected\n",
       "0  x362g  xx336622gg                x362g\n",
       "1  xemyg  xxeemmyygg                xemyg\n",
       "2  mye68  mmyyee6688                mye68\n",
       "3  fbp2c  ffbbpp22cc                fbp2c\n",
       "4  mggce  mmggggccee                 mgce"
      ]
     },
     "execution_count": 48,
     "metadata": {},
     "output_type": "execute_result"
    }
   ],
   "source": [
    "\n",
    "results_test['prediction_corrected'] = results_test['prediction'].apply(correct_prediction)\n",
    "results_test.head()"
   ]
  },
  {
   "cell_type": "code",
   "execution_count": 49,
   "metadata": {
    "colab": {
     "base_uri": "https://localhost:8080/",
     "height": 1000
    },
    "id": "7A_otDhgwO9S",
    "outputId": "a8ac25e8-d69e-491e-cb66-42163d38e74d"
   },
   "outputs": [
    {
     "data": {
      "application/vnd.google.colaboratory.intrinsic+json": {
       "summary": "{\n  \"name\": \"mistakes_df\",\n  \"rows\": 50,\n  \"fields\": [\n    {\n      \"column\": \"actual\",\n      \"properties\": {\n        \"dtype\": \"string\",\n        \"num_unique_values\": 50,\n        \"samples\": [\n          \"mmc5n\",\n          \"e5n66\",\n          \"mmy5n\"\n        ],\n        \"semantic_type\": \"\",\n        \"description\": \"\"\n      }\n    },\n    {\n      \"column\": \"prediction\",\n      \"properties\": {\n        \"dtype\": \"string\",\n        \"num_unique_values\": 50,\n        \"samples\": [\n          \"mmmmmmccnn\",\n          \"ee55nn6666\",\n          \"mmmmyy55nn\"\n        ],\n        \"semantic_type\": \"\",\n        \"description\": \"\"\n      }\n    },\n    {\n      \"column\": \"prediction_corrected\",\n      \"properties\": {\n        \"dtype\": \"string\",\n        \"num_unique_values\": 50,\n        \"samples\": [\n          \"mcn\",\n          \"e5n6\",\n          \"my5n\"\n        ],\n        \"semantic_type\": \"\",\n        \"description\": \"\"\n      }\n    }\n  ]\n}",
       "type": "dataframe",
       "variable_name": "mistakes_df"
      },
      "text/html": [
       "\n",
       "  <div id=\"df-47216aca-afbb-479f-a321-e438b927c270\" class=\"colab-df-container\">\n",
       "    <div>\n",
       "<style scoped>\n",
       "    .dataframe tbody tr th:only-of-type {\n",
       "        vertical-align: middle;\n",
       "    }\n",
       "\n",
       "    .dataframe tbody tr th {\n",
       "        vertical-align: top;\n",
       "    }\n",
       "\n",
       "    .dataframe thead th {\n",
       "        text-align: right;\n",
       "    }\n",
       "</style>\n",
       "<table border=\"1\" class=\"dataframe\">\n",
       "  <thead>\n",
       "    <tr style=\"text-align: right;\">\n",
       "      <th></th>\n",
       "      <th>actual</th>\n",
       "      <th>prediction</th>\n",
       "      <th>prediction_corrected</th>\n",
       "    </tr>\n",
       "  </thead>\n",
       "  <tbody>\n",
       "    <tr>\n",
       "      <th>4</th>\n",
       "      <td>mggce</td>\n",
       "      <td>mmggggccee</td>\n",
       "      <td>mgce</td>\n",
       "    </tr>\n",
       "    <tr>\n",
       "      <th>5</th>\n",
       "      <td>y5dpp</td>\n",
       "      <td>yy55ddpppp</td>\n",
       "      <td>y5dp</td>\n",
       "    </tr>\n",
       "    <tr>\n",
       "      <th>6</th>\n",
       "      <td>3nfdn</td>\n",
       "      <td>33nnndddnn</td>\n",
       "      <td>3ndn</td>\n",
       "    </tr>\n",
       "    <tr>\n",
       "      <th>9</th>\n",
       "      <td>e2d66</td>\n",
       "      <td>ee22dd6666</td>\n",
       "      <td>e2d6</td>\n",
       "    </tr>\n",
       "    <tr>\n",
       "      <th>19</th>\n",
       "      <td>enn7n</td>\n",
       "      <td>eennnn77nn</td>\n",
       "      <td>en7n</td>\n",
       "    </tr>\n",
       "    <tr>\n",
       "      <th>20</th>\n",
       "      <td>x44n4</td>\n",
       "      <td>xx4444nn44</td>\n",
       "      <td>x4n4</td>\n",
       "    </tr>\n",
       "    <tr>\n",
       "      <th>30</th>\n",
       "      <td>77387</td>\n",
       "      <td>7777788877</td>\n",
       "      <td>787</td>\n",
       "    </tr>\n",
       "    <tr>\n",
       "      <th>47</th>\n",
       "      <td>8cccc</td>\n",
       "      <td>88c-----cc</td>\n",
       "      <td>8cc</td>\n",
       "    </tr>\n",
       "    <tr>\n",
       "      <th>49</th>\n",
       "      <td>n3ffn</td>\n",
       "      <td>nn33ffffnn</td>\n",
       "      <td>n3fn</td>\n",
       "    </tr>\n",
       "    <tr>\n",
       "      <th>53</th>\n",
       "      <td>8bbm4</td>\n",
       "      <td>88bbbbmm44</td>\n",
       "      <td>8bm4</td>\n",
       "    </tr>\n",
       "    <tr>\n",
       "      <th>62</th>\n",
       "      <td>cdcb3</td>\n",
       "      <td>eeddccbb33</td>\n",
       "      <td>edcb3</td>\n",
       "    </tr>\n",
       "    <tr>\n",
       "      <th>63</th>\n",
       "      <td>d75b5</td>\n",
       "      <td>dd77555555</td>\n",
       "      <td>d75</td>\n",
       "    </tr>\n",
       "    <tr>\n",
       "      <th>73</th>\n",
       "      <td>ppwyd</td>\n",
       "      <td>ppppwwyydd</td>\n",
       "      <td>pwyd</td>\n",
       "    </tr>\n",
       "    <tr>\n",
       "      <th>90</th>\n",
       "      <td>mmc5n</td>\n",
       "      <td>mmmmmmccnn</td>\n",
       "      <td>mcn</td>\n",
       "    </tr>\n",
       "    <tr>\n",
       "      <th>94</th>\n",
       "      <td>m3588</td>\n",
       "      <td>mm33558888</td>\n",
       "      <td>m358</td>\n",
       "    </tr>\n",
       "    <tr>\n",
       "      <th>102</th>\n",
       "      <td>gfxcc</td>\n",
       "      <td>ggffxxcccc</td>\n",
       "      <td>gfxc</td>\n",
       "    </tr>\n",
       "    <tr>\n",
       "      <th>110</th>\n",
       "      <td>yyn57</td>\n",
       "      <td>yyyynn5577</td>\n",
       "      <td>yn57</td>\n",
       "    </tr>\n",
       "    <tr>\n",
       "      <th>111</th>\n",
       "      <td>474ff</td>\n",
       "      <td>447744ffff</td>\n",
       "      <td>474f</td>\n",
       "    </tr>\n",
       "    <tr>\n",
       "      <th>136</th>\n",
       "      <td>p8wwf</td>\n",
       "      <td>pp88wwwwff</td>\n",
       "      <td>p8wf</td>\n",
       "    </tr>\n",
       "    <tr>\n",
       "      <th>144</th>\n",
       "      <td>3n7mx (1)</td>\n",
       "      <td>33nn77mmxx</td>\n",
       "      <td>3n7mx</td>\n",
       "    </tr>\n",
       "    <tr>\n",
       "      <th>146</th>\n",
       "      <td>mmfm6</td>\n",
       "      <td>mmmmmmffmm</td>\n",
       "      <td>mfm</td>\n",
       "    </tr>\n",
       "    <tr>\n",
       "      <th>147</th>\n",
       "      <td>3mxdn (1)</td>\n",
       "      <td>33mmxxddnn</td>\n",
       "      <td>3mxdn</td>\n",
       "    </tr>\n",
       "    <tr>\n",
       "      <th>163</th>\n",
       "      <td>nn4wx</td>\n",
       "      <td>nnnn44wwxx</td>\n",
       "      <td>n4wx</td>\n",
       "    </tr>\n",
       "    <tr>\n",
       "      <th>164</th>\n",
       "      <td>c353e</td>\n",
       "      <td>cc335533cc</td>\n",
       "      <td>c353c</td>\n",
       "    </tr>\n",
       "    <tr>\n",
       "      <th>166</th>\n",
       "      <td>wddcp</td>\n",
       "      <td>wwddddccpp</td>\n",
       "      <td>wdcp</td>\n",
       "    </tr>\n",
       "    <tr>\n",
       "      <th>167</th>\n",
       "      <td>w52fn</td>\n",
       "      <td>ww555fffnn</td>\n",
       "      <td>w5fn</td>\n",
       "    </tr>\n",
       "    <tr>\n",
       "      <th>173</th>\n",
       "      <td>x775w</td>\n",
       "      <td>xx777755ww</td>\n",
       "      <td>x75w</td>\n",
       "    </tr>\n",
       "    <tr>\n",
       "      <th>174</th>\n",
       "      <td>e667x</td>\n",
       "      <td>ee666677xx</td>\n",
       "      <td>e67x</td>\n",
       "    </tr>\n",
       "    <tr>\n",
       "      <th>178</th>\n",
       "      <td>bxxfc</td>\n",
       "      <td>bbxxxxffcc</td>\n",
       "      <td>bxfc</td>\n",
       "    </tr>\n",
       "    <tr>\n",
       "      <th>181</th>\n",
       "      <td>gymmn</td>\n",
       "      <td>ggyymmmnnn</td>\n",
       "      <td>gymn</td>\n",
       "    </tr>\n",
       "    <tr>\n",
       "      <th>184</th>\n",
       "      <td>mmy5n</td>\n",
       "      <td>mmmmyy55nn</td>\n",
       "      <td>my5n</td>\n",
       "    </tr>\n",
       "    <tr>\n",
       "      <th>191</th>\n",
       "      <td>8nn73</td>\n",
       "      <td>88nnnn7733</td>\n",
       "      <td>8n73</td>\n",
       "    </tr>\n",
       "    <tr>\n",
       "      <th>194</th>\n",
       "      <td>wgnwp</td>\n",
       "      <td>wwggmmwwpp</td>\n",
       "      <td>wgmwp</td>\n",
       "    </tr>\n",
       "    <tr>\n",
       "      <th>200</th>\n",
       "      <td>3nnpw</td>\n",
       "      <td>33nnnnppww</td>\n",
       "      <td>3npw</td>\n",
       "    </tr>\n",
       "    <tr>\n",
       "      <th>201</th>\n",
       "      <td>nnp4e</td>\n",
       "      <td>nnnnpp44ee</td>\n",
       "      <td>np4e</td>\n",
       "    </tr>\n",
       "    <tr>\n",
       "      <th>206</th>\n",
       "      <td>ncww7</td>\n",
       "      <td>nnccwwww77</td>\n",
       "      <td>ncw7</td>\n",
       "    </tr>\n",
       "    <tr>\n",
       "      <th>207</th>\n",
       "      <td>ddxpp</td>\n",
       "      <td>ddddxxpppp</td>\n",
       "      <td>dxp</td>\n",
       "    </tr>\n",
       "    <tr>\n",
       "      <th>208</th>\n",
       "      <td>g2577</td>\n",
       "      <td>gg22557777</td>\n",
       "      <td>g257</td>\n",
       "    </tr>\n",
       "    <tr>\n",
       "      <th>211</th>\n",
       "      <td>x7746</td>\n",
       "      <td>xx77774466</td>\n",
       "      <td>x746</td>\n",
       "    </tr>\n",
       "    <tr>\n",
       "      <th>220</th>\n",
       "      <td>e5n66</td>\n",
       "      <td>ee55nn6666</td>\n",
       "      <td>e5n6</td>\n",
       "    </tr>\n",
       "    <tr>\n",
       "      <th>226</th>\n",
       "      <td>44xe8</td>\n",
       "      <td>4444xxee88</td>\n",
       "      <td>4xe8</td>\n",
       "    </tr>\n",
       "    <tr>\n",
       "      <th>227</th>\n",
       "      <td>dnne7</td>\n",
       "      <td>ddnnnnee77</td>\n",
       "      <td>dne7</td>\n",
       "    </tr>\n",
       "    <tr>\n",
       "      <th>231</th>\n",
       "      <td>nny5e</td>\n",
       "      <td>nnnnyy55ee</td>\n",
       "      <td>ny5e</td>\n",
       "    </tr>\n",
       "    <tr>\n",
       "      <th>237</th>\n",
       "      <td>gy433</td>\n",
       "      <td>ggyy443333</td>\n",
       "      <td>gy43</td>\n",
       "    </tr>\n",
       "    <tr>\n",
       "      <th>238</th>\n",
       "      <td>d66cn</td>\n",
       "      <td>dd6666ccnn</td>\n",
       "      <td>d6cn</td>\n",
       "    </tr>\n",
       "    <tr>\n",
       "      <th>239</th>\n",
       "      <td>nn6w6</td>\n",
       "      <td>nnnn66ww66</td>\n",
       "      <td>n6w6</td>\n",
       "    </tr>\n",
       "    <tr>\n",
       "      <th>244</th>\n",
       "      <td>pmg55</td>\n",
       "      <td>ppmmgg5555</td>\n",
       "      <td>pmg5</td>\n",
       "    </tr>\n",
       "    <tr>\n",
       "      <th>254</th>\n",
       "      <td>wwmn6</td>\n",
       "      <td>wwwwmmnn66</td>\n",
       "      <td>wmn6</td>\n",
       "    </tr>\n",
       "    <tr>\n",
       "      <th>256</th>\n",
       "      <td>d666m</td>\n",
       "      <td>dd6----6mm</td>\n",
       "      <td>d66m</td>\n",
       "    </tr>\n",
       "    <tr>\n",
       "      <th>262</th>\n",
       "      <td>nxx25</td>\n",
       "      <td>nnxxxx2255</td>\n",
       "      <td>nx25</td>\n",
       "    </tr>\n",
       "  </tbody>\n",
       "</table>\n",
       "</div>\n",
       "    <div class=\"colab-df-buttons\">\n",
       "\n",
       "  <div class=\"colab-df-container\">\n",
       "    <button class=\"colab-df-convert\" onclick=\"convertToInteractive('df-47216aca-afbb-479f-a321-e438b927c270')\"\n",
       "            title=\"Convert this dataframe to an interactive table.\"\n",
       "            style=\"display:none;\">\n",
       "\n",
       "  <svg xmlns=\"http://www.w3.org/2000/svg\" height=\"24px\" viewBox=\"0 -960 960 960\">\n",
       "    <path d=\"M120-120v-720h720v720H120Zm60-500h600v-160H180v160Zm220 220h160v-160H400v160Zm0 220h160v-160H400v160ZM180-400h160v-160H180v160Zm440 0h160v-160H620v160ZM180-180h160v-160H180v160Zm440 0h160v-160H620v160Z\"/>\n",
       "  </svg>\n",
       "    </button>\n",
       "\n",
       "  <style>\n",
       "    .colab-df-container {\n",
       "      display:flex;\n",
       "      gap: 12px;\n",
       "    }\n",
       "\n",
       "    .colab-df-convert {\n",
       "      background-color: #E8F0FE;\n",
       "      border: none;\n",
       "      border-radius: 50%;\n",
       "      cursor: pointer;\n",
       "      display: none;\n",
       "      fill: #1967D2;\n",
       "      height: 32px;\n",
       "      padding: 0 0 0 0;\n",
       "      width: 32px;\n",
       "    }\n",
       "\n",
       "    .colab-df-convert:hover {\n",
       "      background-color: #E2EBFA;\n",
       "      box-shadow: 0px 1px 2px rgba(60, 64, 67, 0.3), 0px 1px 3px 1px rgba(60, 64, 67, 0.15);\n",
       "      fill: #174EA6;\n",
       "    }\n",
       "\n",
       "    .colab-df-buttons div {\n",
       "      margin-bottom: 4px;\n",
       "    }\n",
       "\n",
       "    [theme=dark] .colab-df-convert {\n",
       "      background-color: #3B4455;\n",
       "      fill: #D2E3FC;\n",
       "    }\n",
       "\n",
       "    [theme=dark] .colab-df-convert:hover {\n",
       "      background-color: #434B5C;\n",
       "      box-shadow: 0px 1px 3px 1px rgba(0, 0, 0, 0.15);\n",
       "      filter: drop-shadow(0px 1px 2px rgba(0, 0, 0, 0.3));\n",
       "      fill: #FFFFFF;\n",
       "    }\n",
       "  </style>\n",
       "\n",
       "    <script>\n",
       "      const buttonEl =\n",
       "        document.querySelector('#df-47216aca-afbb-479f-a321-e438b927c270 button.colab-df-convert');\n",
       "      buttonEl.style.display =\n",
       "        google.colab.kernel.accessAllowed ? 'block' : 'none';\n",
       "\n",
       "      async function convertToInteractive(key) {\n",
       "        const element = document.querySelector('#df-47216aca-afbb-479f-a321-e438b927c270');\n",
       "        const dataTable =\n",
       "          await google.colab.kernel.invokeFunction('convertToInteractive',\n",
       "                                                    [key], {});\n",
       "        if (!dataTable) return;\n",
       "\n",
       "        const docLinkHtml = 'Like what you see? Visit the ' +\n",
       "          '<a target=\"_blank\" href=https://colab.research.google.com/notebooks/data_table.ipynb>data table notebook</a>'\n",
       "          + ' to learn more about interactive tables.';\n",
       "        element.innerHTML = '';\n",
       "        dataTable['output_type'] = 'display_data';\n",
       "        await google.colab.output.renderOutput(dataTable, element);\n",
       "        const docLink = document.createElement('div');\n",
       "        docLink.innerHTML = docLinkHtml;\n",
       "        element.appendChild(docLink);\n",
       "      }\n",
       "    </script>\n",
       "  </div>\n",
       "\n",
       "\n",
       "<div id=\"df-19467bbc-c6f9-47b8-837a-ead9f6f9a02e\">\n",
       "  <button class=\"colab-df-quickchart\" onclick=\"quickchart('df-19467bbc-c6f9-47b8-837a-ead9f6f9a02e')\"\n",
       "            title=\"Suggest charts\"\n",
       "            style=\"display:none;\">\n",
       "\n",
       "<svg xmlns=\"http://www.w3.org/2000/svg\" height=\"24px\"viewBox=\"0 0 24 24\"\n",
       "     width=\"24px\">\n",
       "    <g>\n",
       "        <path d=\"M19 3H5c-1.1 0-2 .9-2 2v14c0 1.1.9 2 2 2h14c1.1 0 2-.9 2-2V5c0-1.1-.9-2-2-2zM9 17H7v-7h2v7zm4 0h-2V7h2v10zm4 0h-2v-4h2v4z\"/>\n",
       "    </g>\n",
       "</svg>\n",
       "  </button>\n",
       "\n",
       "<style>\n",
       "  .colab-df-quickchart {\n",
       "      --bg-color: #E8F0FE;\n",
       "      --fill-color: #1967D2;\n",
       "      --hover-bg-color: #E2EBFA;\n",
       "      --hover-fill-color: #174EA6;\n",
       "      --disabled-fill-color: #AAA;\n",
       "      --disabled-bg-color: #DDD;\n",
       "  }\n",
       "\n",
       "  [theme=dark] .colab-df-quickchart {\n",
       "      --bg-color: #3B4455;\n",
       "      --fill-color: #D2E3FC;\n",
       "      --hover-bg-color: #434B5C;\n",
       "      --hover-fill-color: #FFFFFF;\n",
       "      --disabled-bg-color: #3B4455;\n",
       "      --disabled-fill-color: #666;\n",
       "  }\n",
       "\n",
       "  .colab-df-quickchart {\n",
       "    background-color: var(--bg-color);\n",
       "    border: none;\n",
       "    border-radius: 50%;\n",
       "    cursor: pointer;\n",
       "    display: none;\n",
       "    fill: var(--fill-color);\n",
       "    height: 32px;\n",
       "    padding: 0;\n",
       "    width: 32px;\n",
       "  }\n",
       "\n",
       "  .colab-df-quickchart:hover {\n",
       "    background-color: var(--hover-bg-color);\n",
       "    box-shadow: 0 1px 2px rgba(60, 64, 67, 0.3), 0 1px 3px 1px rgba(60, 64, 67, 0.15);\n",
       "    fill: var(--button-hover-fill-color);\n",
       "  }\n",
       "\n",
       "  .colab-df-quickchart-complete:disabled,\n",
       "  .colab-df-quickchart-complete:disabled:hover {\n",
       "    background-color: var(--disabled-bg-color);\n",
       "    fill: var(--disabled-fill-color);\n",
       "    box-shadow: none;\n",
       "  }\n",
       "\n",
       "  .colab-df-spinner {\n",
       "    border: 2px solid var(--fill-color);\n",
       "    border-color: transparent;\n",
       "    border-bottom-color: var(--fill-color);\n",
       "    animation:\n",
       "      spin 1s steps(1) infinite;\n",
       "  }\n",
       "\n",
       "  @keyframes spin {\n",
       "    0% {\n",
       "      border-color: transparent;\n",
       "      border-bottom-color: var(--fill-color);\n",
       "      border-left-color: var(--fill-color);\n",
       "    }\n",
       "    20% {\n",
       "      border-color: transparent;\n",
       "      border-left-color: var(--fill-color);\n",
       "      border-top-color: var(--fill-color);\n",
       "    }\n",
       "    30% {\n",
       "      border-color: transparent;\n",
       "      border-left-color: var(--fill-color);\n",
       "      border-top-color: var(--fill-color);\n",
       "      border-right-color: var(--fill-color);\n",
       "    }\n",
       "    40% {\n",
       "      border-color: transparent;\n",
       "      border-right-color: var(--fill-color);\n",
       "      border-top-color: var(--fill-color);\n",
       "    }\n",
       "    60% {\n",
       "      border-color: transparent;\n",
       "      border-right-color: var(--fill-color);\n",
       "    }\n",
       "    80% {\n",
       "      border-color: transparent;\n",
       "      border-right-color: var(--fill-color);\n",
       "      border-bottom-color: var(--fill-color);\n",
       "    }\n",
       "    90% {\n",
       "      border-color: transparent;\n",
       "      border-bottom-color: var(--fill-color);\n",
       "    }\n",
       "  }\n",
       "</style>\n",
       "\n",
       "  <script>\n",
       "    async function quickchart(key) {\n",
       "      const quickchartButtonEl =\n",
       "        document.querySelector('#' + key + ' button');\n",
       "      quickchartButtonEl.disabled = true;  // To prevent multiple clicks.\n",
       "      quickchartButtonEl.classList.add('colab-df-spinner');\n",
       "      try {\n",
       "        const charts = await google.colab.kernel.invokeFunction(\n",
       "            'suggestCharts', [key], {});\n",
       "      } catch (error) {\n",
       "        console.error('Error during call to suggestCharts:', error);\n",
       "      }\n",
       "      quickchartButtonEl.classList.remove('colab-df-spinner');\n",
       "      quickchartButtonEl.classList.add('colab-df-quickchart-complete');\n",
       "    }\n",
       "    (() => {\n",
       "      let quickchartButtonEl =\n",
       "        document.querySelector('#df-19467bbc-c6f9-47b8-837a-ead9f6f9a02e button');\n",
       "      quickchartButtonEl.style.display =\n",
       "        google.colab.kernel.accessAllowed ? 'block' : 'none';\n",
       "    })();\n",
       "  </script>\n",
       "</div>\n",
       "\n",
       "  <div id=\"id_35f13b18-a8b2-4928-81b7-5ec350018e0a\">\n",
       "    <style>\n",
       "      .colab-df-generate {\n",
       "        background-color: #E8F0FE;\n",
       "        border: none;\n",
       "        border-radius: 50%;\n",
       "        cursor: pointer;\n",
       "        display: none;\n",
       "        fill: #1967D2;\n",
       "        height: 32px;\n",
       "        padding: 0 0 0 0;\n",
       "        width: 32px;\n",
       "      }\n",
       "\n",
       "      .colab-df-generate:hover {\n",
       "        background-color: #E2EBFA;\n",
       "        box-shadow: 0px 1px 2px rgba(60, 64, 67, 0.3), 0px 1px 3px 1px rgba(60, 64, 67, 0.15);\n",
       "        fill: #174EA6;\n",
       "      }\n",
       "\n",
       "      [theme=dark] .colab-df-generate {\n",
       "        background-color: #3B4455;\n",
       "        fill: #D2E3FC;\n",
       "      }\n",
       "\n",
       "      [theme=dark] .colab-df-generate:hover {\n",
       "        background-color: #434B5C;\n",
       "        box-shadow: 0px 1px 3px 1px rgba(0, 0, 0, 0.15);\n",
       "        filter: drop-shadow(0px 1px 2px rgba(0, 0, 0, 0.3));\n",
       "        fill: #FFFFFF;\n",
       "      }\n",
       "    </style>\n",
       "    <button class=\"colab-df-generate\" onclick=\"generateWithVariable('mistakes_df')\"\n",
       "            title=\"Generate code using this dataframe.\"\n",
       "            style=\"display:none;\">\n",
       "\n",
       "  <svg xmlns=\"http://www.w3.org/2000/svg\" height=\"24px\"viewBox=\"0 0 24 24\"\n",
       "       width=\"24px\">\n",
       "    <path d=\"M7,19H8.4L18.45,9,17,7.55,7,17.6ZM5,21V16.75L18.45,3.32a2,2,0,0,1,2.83,0l1.4,1.43a1.91,1.91,0,0,1,.58,1.4,1.91,1.91,0,0,1-.58,1.4L9.25,21ZM18.45,9,17,7.55Zm-12,3A5.31,5.31,0,0,0,4.9,8.1,5.31,5.31,0,0,0,1,6.5,5.31,5.31,0,0,0,4.9,4.9,5.31,5.31,0,0,0,6.5,1,5.31,5.31,0,0,0,8.1,4.9,5.31,5.31,0,0,0,12,6.5,5.46,5.46,0,0,0,6.5,12Z\"/>\n",
       "  </svg>\n",
       "    </button>\n",
       "    <script>\n",
       "      (() => {\n",
       "      const buttonEl =\n",
       "        document.querySelector('#id_35f13b18-a8b2-4928-81b7-5ec350018e0a button.colab-df-generate');\n",
       "      buttonEl.style.display =\n",
       "        google.colab.kernel.accessAllowed ? 'block' : 'none';\n",
       "\n",
       "      buttonEl.onclick = () => {\n",
       "        google.colab.notebook.generateWithVariable('mistakes_df');\n",
       "      }\n",
       "      })();\n",
       "    </script>\n",
       "  </div>\n",
       "\n",
       "    </div>\n",
       "  </div>\n"
      ],
      "text/plain": [
       "        actual  prediction prediction_corrected\n",
       "4        mggce  mmggggccee                 mgce\n",
       "5        y5dpp  yy55ddpppp                 y5dp\n",
       "6        3nfdn  33nnndddnn                 3ndn\n",
       "9        e2d66  ee22dd6666                 e2d6\n",
       "19       enn7n  eennnn77nn                 en7n\n",
       "20       x44n4  xx4444nn44                 x4n4\n",
       "30       77387  7777788877                  787\n",
       "47       8cccc  88c-----cc                  8cc\n",
       "49       n3ffn  nn33ffffnn                 n3fn\n",
       "53       8bbm4  88bbbbmm44                 8bm4\n",
       "62       cdcb3  eeddccbb33                edcb3\n",
       "63       d75b5  dd77555555                  d75\n",
       "73       ppwyd  ppppwwyydd                 pwyd\n",
       "90       mmc5n  mmmmmmccnn                  mcn\n",
       "94       m3588  mm33558888                 m358\n",
       "102      gfxcc  ggffxxcccc                 gfxc\n",
       "110      yyn57  yyyynn5577                 yn57\n",
       "111      474ff  447744ffff                 474f\n",
       "136      p8wwf  pp88wwwwff                 p8wf\n",
       "144  3n7mx (1)  33nn77mmxx                3n7mx\n",
       "146      mmfm6  mmmmmmffmm                  mfm\n",
       "147  3mxdn (1)  33mmxxddnn                3mxdn\n",
       "163      nn4wx  nnnn44wwxx                 n4wx\n",
       "164      c353e  cc335533cc                c353c\n",
       "166      wddcp  wwddddccpp                 wdcp\n",
       "167      w52fn  ww555fffnn                 w5fn\n",
       "173      x775w  xx777755ww                 x75w\n",
       "174      e667x  ee666677xx                 e67x\n",
       "178      bxxfc  bbxxxxffcc                 bxfc\n",
       "181      gymmn  ggyymmmnnn                 gymn\n",
       "184      mmy5n  mmmmyy55nn                 my5n\n",
       "191      8nn73  88nnnn7733                 8n73\n",
       "194      wgnwp  wwggmmwwpp                wgmwp\n",
       "200      3nnpw  33nnnnppww                 3npw\n",
       "201      nnp4e  nnnnpp44ee                 np4e\n",
       "206      ncww7  nnccwwww77                 ncw7\n",
       "207      ddxpp  ddddxxpppp                  dxp\n",
       "208      g2577  gg22557777                 g257\n",
       "211      x7746  xx77774466                 x746\n",
       "220      e5n66  ee55nn6666                 e5n6\n",
       "226      44xe8  4444xxee88                 4xe8\n",
       "227      dnne7  ddnnnnee77                 dne7\n",
       "231      nny5e  nnnnyy55ee                 ny5e\n",
       "237      gy433  ggyy443333                 gy43\n",
       "238      d66cn  dd6666ccnn                 d6cn\n",
       "239      nn6w6  nnnn66ww66                 n6w6\n",
       "244      pmg55  ppmmgg5555                 pmg5\n",
       "254      wwmn6  wwwwmmnn66                 wmn6\n",
       "256      d666m  dd6----6mm                 d66m\n",
       "262      nxx25  nnxxxx2255                 nx25"
      ]
     },
     "execution_count": 49,
     "metadata": {},
     "output_type": "execute_result"
    }
   ],
   "source": [
    "\n",
    "mistakes_df = results_test[results_test['actual'] != results_test['prediction_corrected']]\n",
    "mistakes_df"
   ]
  },
  {
   "cell_type": "code",
   "execution_count": 50,
   "metadata": {
    "colab": {
     "base_uri": "https://localhost:8080/"
    },
    "id": "I2xlPwndwTh2",
    "outputId": "9ea82235-1a17-41f0-92f6-741deab14577"
   },
   "outputs": [
    {
     "name": "stdout",
     "output_type": "stream",
     "text": [
      "prediction_corrected\n",
      "4    39\n",
      "3     6\n",
      "5     5\n",
      "Name: count, dtype: int64\n"
     ]
    }
   ],
   "source": [
    "\n",
    "print(mistakes_df['prediction_corrected'].str.len().value_counts())"
   ]
  },
  {
   "cell_type": "code",
   "execution_count": 51,
   "metadata": {
    "colab": {
     "base_uri": "https://localhost:8080/",
     "height": 206
    },
    "id": "5y0pM7pawVvA",
    "outputId": "561328f1-8abd-4839-b8ed-888c1e0b6d53"
   },
   "outputs": [
    {
     "data": {
      "application/vnd.google.colaboratory.intrinsic+json": {
       "summary": "{\n  \"name\": \"mistakes_df[mask]\",\n  \"rows\": 5,\n  \"fields\": [\n    {\n      \"column\": \"actual\",\n      \"properties\": {\n        \"dtype\": \"string\",\n        \"num_unique_values\": 5,\n        \"samples\": [\n          \"3n7mx (1)\",\n          \"wgnwp\",\n          \"3mxdn (1)\"\n        ],\n        \"semantic_type\": \"\",\n        \"description\": \"\"\n      }\n    },\n    {\n      \"column\": \"prediction\",\n      \"properties\": {\n        \"dtype\": \"string\",\n        \"num_unique_values\": 5,\n        \"samples\": [\n          \"33nn77mmxx\",\n          \"wwggmmwwpp\",\n          \"33mmxxddnn\"\n        ],\n        \"semantic_type\": \"\",\n        \"description\": \"\"\n      }\n    },\n    {\n      \"column\": \"prediction_corrected\",\n      \"properties\": {\n        \"dtype\": \"string\",\n        \"num_unique_values\": 5,\n        \"samples\": [\n          \"3n7mx\",\n          \"wgmwp\",\n          \"3mxdn\"\n        ],\n        \"semantic_type\": \"\",\n        \"description\": \"\"\n      }\n    }\n  ]\n}",
       "type": "dataframe"
      },
      "text/html": [
       "\n",
       "  <div id=\"df-76f61619-697c-482d-ac75-1dc32d74c44a\" class=\"colab-df-container\">\n",
       "    <div>\n",
       "<style scoped>\n",
       "    .dataframe tbody tr th:only-of-type {\n",
       "        vertical-align: middle;\n",
       "    }\n",
       "\n",
       "    .dataframe tbody tr th {\n",
       "        vertical-align: top;\n",
       "    }\n",
       "\n",
       "    .dataframe thead th {\n",
       "        text-align: right;\n",
       "    }\n",
       "</style>\n",
       "<table border=\"1\" class=\"dataframe\">\n",
       "  <thead>\n",
       "    <tr style=\"text-align: right;\">\n",
       "      <th></th>\n",
       "      <th>actual</th>\n",
       "      <th>prediction</th>\n",
       "      <th>prediction_corrected</th>\n",
       "    </tr>\n",
       "  </thead>\n",
       "  <tbody>\n",
       "    <tr>\n",
       "      <th>62</th>\n",
       "      <td>cdcb3</td>\n",
       "      <td>eeddccbb33</td>\n",
       "      <td>edcb3</td>\n",
       "    </tr>\n",
       "    <tr>\n",
       "      <th>144</th>\n",
       "      <td>3n7mx (1)</td>\n",
       "      <td>33nn77mmxx</td>\n",
       "      <td>3n7mx</td>\n",
       "    </tr>\n",
       "    <tr>\n",
       "      <th>147</th>\n",
       "      <td>3mxdn (1)</td>\n",
       "      <td>33mmxxddnn</td>\n",
       "      <td>3mxdn</td>\n",
       "    </tr>\n",
       "    <tr>\n",
       "      <th>164</th>\n",
       "      <td>c353e</td>\n",
       "      <td>cc335533cc</td>\n",
       "      <td>c353c</td>\n",
       "    </tr>\n",
       "    <tr>\n",
       "      <th>194</th>\n",
       "      <td>wgnwp</td>\n",
       "      <td>wwggmmwwpp</td>\n",
       "      <td>wgmwp</td>\n",
       "    </tr>\n",
       "  </tbody>\n",
       "</table>\n",
       "</div>\n",
       "    <div class=\"colab-df-buttons\">\n",
       "\n",
       "  <div class=\"colab-df-container\">\n",
       "    <button class=\"colab-df-convert\" onclick=\"convertToInteractive('df-76f61619-697c-482d-ac75-1dc32d74c44a')\"\n",
       "            title=\"Convert this dataframe to an interactive table.\"\n",
       "            style=\"display:none;\">\n",
       "\n",
       "  <svg xmlns=\"http://www.w3.org/2000/svg\" height=\"24px\" viewBox=\"0 -960 960 960\">\n",
       "    <path d=\"M120-120v-720h720v720H120Zm60-500h600v-160H180v160Zm220 220h160v-160H400v160Zm0 220h160v-160H400v160ZM180-400h160v-160H180v160Zm440 0h160v-160H620v160ZM180-180h160v-160H180v160Zm440 0h160v-160H620v160Z\"/>\n",
       "  </svg>\n",
       "    </button>\n",
       "\n",
       "  <style>\n",
       "    .colab-df-container {\n",
       "      display:flex;\n",
       "      gap: 12px;\n",
       "    }\n",
       "\n",
       "    .colab-df-convert {\n",
       "      background-color: #E8F0FE;\n",
       "      border: none;\n",
       "      border-radius: 50%;\n",
       "      cursor: pointer;\n",
       "      display: none;\n",
       "      fill: #1967D2;\n",
       "      height: 32px;\n",
       "      padding: 0 0 0 0;\n",
       "      width: 32px;\n",
       "    }\n",
       "\n",
       "    .colab-df-convert:hover {\n",
       "      background-color: #E2EBFA;\n",
       "      box-shadow: 0px 1px 2px rgba(60, 64, 67, 0.3), 0px 1px 3px 1px rgba(60, 64, 67, 0.15);\n",
       "      fill: #174EA6;\n",
       "    }\n",
       "\n",
       "    .colab-df-buttons div {\n",
       "      margin-bottom: 4px;\n",
       "    }\n",
       "\n",
       "    [theme=dark] .colab-df-convert {\n",
       "      background-color: #3B4455;\n",
       "      fill: #D2E3FC;\n",
       "    }\n",
       "\n",
       "    [theme=dark] .colab-df-convert:hover {\n",
       "      background-color: #434B5C;\n",
       "      box-shadow: 0px 1px 3px 1px rgba(0, 0, 0, 0.15);\n",
       "      filter: drop-shadow(0px 1px 2px rgba(0, 0, 0, 0.3));\n",
       "      fill: #FFFFFF;\n",
       "    }\n",
       "  </style>\n",
       "\n",
       "    <script>\n",
       "      const buttonEl =\n",
       "        document.querySelector('#df-76f61619-697c-482d-ac75-1dc32d74c44a button.colab-df-convert');\n",
       "      buttonEl.style.display =\n",
       "        google.colab.kernel.accessAllowed ? 'block' : 'none';\n",
       "\n",
       "      async function convertToInteractive(key) {\n",
       "        const element = document.querySelector('#df-76f61619-697c-482d-ac75-1dc32d74c44a');\n",
       "        const dataTable =\n",
       "          await google.colab.kernel.invokeFunction('convertToInteractive',\n",
       "                                                    [key], {});\n",
       "        if (!dataTable) return;\n",
       "\n",
       "        const docLinkHtml = 'Like what you see? Visit the ' +\n",
       "          '<a target=\"_blank\" href=https://colab.research.google.com/notebooks/data_table.ipynb>data table notebook</a>'\n",
       "          + ' to learn more about interactive tables.';\n",
       "        element.innerHTML = '';\n",
       "        dataTable['output_type'] = 'display_data';\n",
       "        await google.colab.output.renderOutput(dataTable, element);\n",
       "        const docLink = document.createElement('div');\n",
       "        docLink.innerHTML = docLinkHtml;\n",
       "        element.appendChild(docLink);\n",
       "      }\n",
       "    </script>\n",
       "  </div>\n",
       "\n",
       "\n",
       "<div id=\"df-ab7d3eb7-d2cf-4b63-b618-efd00f2ac83b\">\n",
       "  <button class=\"colab-df-quickchart\" onclick=\"quickchart('df-ab7d3eb7-d2cf-4b63-b618-efd00f2ac83b')\"\n",
       "            title=\"Suggest charts\"\n",
       "            style=\"display:none;\">\n",
       "\n",
       "<svg xmlns=\"http://www.w3.org/2000/svg\" height=\"24px\"viewBox=\"0 0 24 24\"\n",
       "     width=\"24px\">\n",
       "    <g>\n",
       "        <path d=\"M19 3H5c-1.1 0-2 .9-2 2v14c0 1.1.9 2 2 2h14c1.1 0 2-.9 2-2V5c0-1.1-.9-2-2-2zM9 17H7v-7h2v7zm4 0h-2V7h2v10zm4 0h-2v-4h2v4z\"/>\n",
       "    </g>\n",
       "</svg>\n",
       "  </button>\n",
       "\n",
       "<style>\n",
       "  .colab-df-quickchart {\n",
       "      --bg-color: #E8F0FE;\n",
       "      --fill-color: #1967D2;\n",
       "      --hover-bg-color: #E2EBFA;\n",
       "      --hover-fill-color: #174EA6;\n",
       "      --disabled-fill-color: #AAA;\n",
       "      --disabled-bg-color: #DDD;\n",
       "  }\n",
       "\n",
       "  [theme=dark] .colab-df-quickchart {\n",
       "      --bg-color: #3B4455;\n",
       "      --fill-color: #D2E3FC;\n",
       "      --hover-bg-color: #434B5C;\n",
       "      --hover-fill-color: #FFFFFF;\n",
       "      --disabled-bg-color: #3B4455;\n",
       "      --disabled-fill-color: #666;\n",
       "  }\n",
       "\n",
       "  .colab-df-quickchart {\n",
       "    background-color: var(--bg-color);\n",
       "    border: none;\n",
       "    border-radius: 50%;\n",
       "    cursor: pointer;\n",
       "    display: none;\n",
       "    fill: var(--fill-color);\n",
       "    height: 32px;\n",
       "    padding: 0;\n",
       "    width: 32px;\n",
       "  }\n",
       "\n",
       "  .colab-df-quickchart:hover {\n",
       "    background-color: var(--hover-bg-color);\n",
       "    box-shadow: 0 1px 2px rgba(60, 64, 67, 0.3), 0 1px 3px 1px rgba(60, 64, 67, 0.15);\n",
       "    fill: var(--button-hover-fill-color);\n",
       "  }\n",
       "\n",
       "  .colab-df-quickchart-complete:disabled,\n",
       "  .colab-df-quickchart-complete:disabled:hover {\n",
       "    background-color: var(--disabled-bg-color);\n",
       "    fill: var(--disabled-fill-color);\n",
       "    box-shadow: none;\n",
       "  }\n",
       "\n",
       "  .colab-df-spinner {\n",
       "    border: 2px solid var(--fill-color);\n",
       "    border-color: transparent;\n",
       "    border-bottom-color: var(--fill-color);\n",
       "    animation:\n",
       "      spin 1s steps(1) infinite;\n",
       "  }\n",
       "\n",
       "  @keyframes spin {\n",
       "    0% {\n",
       "      border-color: transparent;\n",
       "      border-bottom-color: var(--fill-color);\n",
       "      border-left-color: var(--fill-color);\n",
       "    }\n",
       "    20% {\n",
       "      border-color: transparent;\n",
       "      border-left-color: var(--fill-color);\n",
       "      border-top-color: var(--fill-color);\n",
       "    }\n",
       "    30% {\n",
       "      border-color: transparent;\n",
       "      border-left-color: var(--fill-color);\n",
       "      border-top-color: var(--fill-color);\n",
       "      border-right-color: var(--fill-color);\n",
       "    }\n",
       "    40% {\n",
       "      border-color: transparent;\n",
       "      border-right-color: var(--fill-color);\n",
       "      border-top-color: var(--fill-color);\n",
       "    }\n",
       "    60% {\n",
       "      border-color: transparent;\n",
       "      border-right-color: var(--fill-color);\n",
       "    }\n",
       "    80% {\n",
       "      border-color: transparent;\n",
       "      border-right-color: var(--fill-color);\n",
       "      border-bottom-color: var(--fill-color);\n",
       "    }\n",
       "    90% {\n",
       "      border-color: transparent;\n",
       "      border-bottom-color: var(--fill-color);\n",
       "    }\n",
       "  }\n",
       "</style>\n",
       "\n",
       "  <script>\n",
       "    async function quickchart(key) {\n",
       "      const quickchartButtonEl =\n",
       "        document.querySelector('#' + key + ' button');\n",
       "      quickchartButtonEl.disabled = true;  // To prevent multiple clicks.\n",
       "      quickchartButtonEl.classList.add('colab-df-spinner');\n",
       "      try {\n",
       "        const charts = await google.colab.kernel.invokeFunction(\n",
       "            'suggestCharts', [key], {});\n",
       "      } catch (error) {\n",
       "        console.error('Error during call to suggestCharts:', error);\n",
       "      }\n",
       "      quickchartButtonEl.classList.remove('colab-df-spinner');\n",
       "      quickchartButtonEl.classList.add('colab-df-quickchart-complete');\n",
       "    }\n",
       "    (() => {\n",
       "      let quickchartButtonEl =\n",
       "        document.querySelector('#df-ab7d3eb7-d2cf-4b63-b618-efd00f2ac83b button');\n",
       "      quickchartButtonEl.style.display =\n",
       "        google.colab.kernel.accessAllowed ? 'block' : 'none';\n",
       "    })();\n",
       "  </script>\n",
       "</div>\n",
       "\n",
       "    </div>\n",
       "  </div>\n"
      ],
      "text/plain": [
       "        actual  prediction prediction_corrected\n",
       "62       cdcb3  eeddccbb33                edcb3\n",
       "144  3n7mx (1)  33nn77mmxx                3n7mx\n",
       "147  3mxdn (1)  33mmxxddnn                3mxdn\n",
       "164      c353e  cc335533cc                c353c\n",
       "194      wgnwp  wwggmmwwpp                wgmwp"
      ]
     },
     "execution_count": 51,
     "metadata": {},
     "output_type": "execute_result"
    }
   ],
   "source": [
    "\n",
    "mask = mistakes_df['prediction_corrected'].str.len() == 5\n",
    "mistakes_df[mask]"
   ]
  },
  {
   "cell_type": "code",
   "execution_count": 52,
   "metadata": {
    "colab": {
     "base_uri": "https://localhost:8080/",
     "height": 205
    },
    "id": "1WrFEC5ewYis",
    "outputId": "43b8e11c-b914-4840-b897-e96967e04d84"
   },
   "outputs": [
    {
     "name": "stdout",
     "output_type": "stream",
     "text": [
      "/content/drive/MyDrive/archive (1)/samples/cdcb3.png\n"
     ]
    },
    {
     "data": {
      "image/png": "[encoded data removed]",
      "text/plain": [
       "<Figure size 640x480 with 1 Axes>"
      ]
     },
     "metadata": {},
     "output_type": "display_data"
    }
   ],
   "source": [
    "\n",
    "mistake_image_fp = os.path.join(data_path, mistakes_df[mask]['actual'].values[0] + \".png\")\n",
    "print(mistake_image_fp)\n",
    "mistake_image = Image.open(mistake_image_fp)\n",
    "plt.imshow(mistake_image)\n",
    "plt.show()"
   ]
  },
  {
   "cell_type": "code",
   "execution_count": 53,
   "metadata": {
    "colab": {
     "base_uri": "https://localhost:8080/"
    },
    "id": "smdiiqRSwdWf",
    "outputId": "8b2c119d-603c-461b-ed49-860a36b736b2"
   },
   "outputs": [
    {
     "name": "stdout",
     "output_type": "stream",
     "text": [
      "0.8580246913580247\n",
      "0.8148148148148148\n"
     ]
    }
   ],
   "source": [
    "train_accuracy = accuracy_score(results_train['actual'], results_train['prediction_corrected'])\n",
    "print(train_accuracy)\n",
    "test_accuracy = accuracy_score(results_test['actual'], results_test['prediction_corrected'])\n",
    "print(test_accuracy)"
   ]
  }
 ],
 "metadata": {
  "colab": {
   "provenance": []
  },
  "kernelspec": {
   "display_name": "Python 3 (ipykernel)",
   "language": "python",
   "name": "python3"
  },
  "language_info": {
   "codemirror_mode": {
    "name": "ipython",
    "version": 3
   },
   "file_extension": ".py",
   "mimetype": "text/x-python",
   "name": "python",
   "nbconvert_exporter": "python",
   "pygments_lexer": "ipython3",
   "version": "3.10.5"
  }
 },
 "nbformat": 4,
 "nbformat_minor": 4
}
